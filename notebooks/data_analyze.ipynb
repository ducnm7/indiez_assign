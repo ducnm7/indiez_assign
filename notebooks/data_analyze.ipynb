{
 "cells": [
  {
   "cell_type": "markdown",
   "id": "e548a873ce0f7654",
   "metadata": {},
   "source": [
    "**The questions about this dataset:**\n",
    "1. How can we know if the improvement of Tutorial in-game version 1.6.0 has impacted the User Experience better than in-game\n",
    "version 1.5.2?\n",
    "2. Can we roll out 100% game version 1.6.0 to all users or not? Why? (Analyze and evaluate the 2 versions).\n",
    "3. Based on the data and your experience with the game, do you have any ideas to improve our User Experience? Explain it in detail\n",
    "(image, text, diagram, logic, game mechanics,...)"
   ]
  },
  {
   "cell_type": "code",
   "execution_count": 327,
   "id": "6d2b6a8b0a80529f",
   "metadata": {
    "ExecuteTime": {
     "end_time": "2024-07-02T19:33:12.368127200Z",
     "start_time": "2024-07-02T19:33:12.300666Z"
    }
   },
   "outputs": [],
   "source": [
    "# Import all the libraries which will be used later\n",
    "import pandas as pd\n",
    "import matplotlib.pyplot as plt\n",
    "import seaborn as sns\n",
    "import numpy as np\n",
    "%matplotlib inline\n",
    "from scipy.stats import chi2_contingency, ttest_ind"
   ]
  },
  {
   "cell_type": "markdown",
   "id": "3eb9cb5075c72d7b",
   "metadata": {},
   "source": [
    "**DATA WRANGLING**"
   ]
  },
  {
   "cell_type": "markdown",
   "id": "ccd1a96c3c9017e0",
   "metadata": {},
   "source": [
    "1. *game_end* dataset"
   ]
  },
  {
   "cell_type": "code",
   "execution_count": 239,
   "id": "90eccf8d3e8d9d92",
   "metadata": {
    "ExecuteTime": {
     "end_time": "2024-07-02T17:32:19.824902600Z",
     "start_time": "2024-07-02T17:32:18.102493200Z"
    }
   },
   "outputs": [
    {
     "data": {
      "text/html": [
       "<div>\n",
       "<style scoped>\n",
       "    .dataframe tbody tr th:only-of-type {\n",
       "        vertical-align: middle;\n",
       "    }\n",
       "\n",
       "    .dataframe tbody tr th {\n",
       "        vertical-align: top;\n",
       "    }\n",
       "\n",
       "    .dataframe thead th {\n",
       "        text-align: right;\n",
       "    }\n",
       "</style>\n",
       "<table border=\"1\" class=\"dataframe\">\n",
       "  <thead>\n",
       "    <tr style=\"text-align: right;\">\n",
       "      <th></th>\n",
       "      <th>event_id</th>\n",
       "      <th>date_time</th>\n",
       "      <th>event_name</th>\n",
       "      <th>level</th>\n",
       "      <th>user</th>\n",
       "      <th>day_diff</th>\n",
       "      <th>day0</th>\n",
       "      <th>mode_game</th>\n",
       "      <th>win</th>\n",
       "      <th>reason_to_die</th>\n",
       "      <th>quantity</th>\n",
       "      <th>version</th>\n",
       "    </tr>\n",
       "  </thead>\n",
       "  <tbody>\n",
       "    <tr>\n",
       "      <th>0</th>\n",
       "      <td>48</td>\n",
       "      <td>2023-10-28</td>\n",
       "      <td>game_end</td>\n",
       "      <td>1</td>\n",
       "      <td>1cffd052-4616-4d29-bfd5-950e23b763d4</td>\n",
       "      <td>0.0</td>\n",
       "      <td>2023-10-28</td>\n",
       "      <td>normal</td>\n",
       "      <td>0.0</td>\n",
       "      <td>out_of_lives</td>\n",
       "      <td>31</td>\n",
       "      <td>1.6.0</td>\n",
       "    </tr>\n",
       "    <tr>\n",
       "      <th>1</th>\n",
       "      <td>49</td>\n",
       "      <td>2023-10-28</td>\n",
       "      <td>game_end</td>\n",
       "      <td>1</td>\n",
       "      <td>1cffd052-4616-4d29-bfd5-950e23b763d4</td>\n",
       "      <td>0.0</td>\n",
       "      <td>2023-10-28</td>\n",
       "      <td>normal</td>\n",
       "      <td>1.0</td>\n",
       "      <td>NaN</td>\n",
       "      <td>18</td>\n",
       "      <td>1.6.0</td>\n",
       "    </tr>\n",
       "    <tr>\n",
       "      <th>2</th>\n",
       "      <td>50</td>\n",
       "      <td>2023-10-28</td>\n",
       "      <td>game_end</td>\n",
       "      <td>2</td>\n",
       "      <td>1cffd052-4616-4d29-bfd5-950e23b763d4</td>\n",
       "      <td>0.0</td>\n",
       "      <td>2023-10-28</td>\n",
       "      <td>normal</td>\n",
       "      <td>1.0</td>\n",
       "      <td>NaN</td>\n",
       "      <td>10</td>\n",
       "      <td>1.6.0</td>\n",
       "    </tr>\n",
       "    <tr>\n",
       "      <th>3</th>\n",
       "      <td>51</td>\n",
       "      <td>2023-10-28</td>\n",
       "      <td>game_end</td>\n",
       "      <td>3</td>\n",
       "      <td>1cffd052-4616-4d29-bfd5-950e23b763d4</td>\n",
       "      <td>0.0</td>\n",
       "      <td>2023-10-28</td>\n",
       "      <td>normal</td>\n",
       "      <td>1.0</td>\n",
       "      <td>NaN</td>\n",
       "      <td>9</td>\n",
       "      <td>1.6.0</td>\n",
       "    </tr>\n",
       "    <tr>\n",
       "      <th>4</th>\n",
       "      <td>52</td>\n",
       "      <td>2023-10-28</td>\n",
       "      <td>game_end</td>\n",
       "      <td>4</td>\n",
       "      <td>1cffd052-4616-4d29-bfd5-950e23b763d4</td>\n",
       "      <td>0.0</td>\n",
       "      <td>2023-10-28</td>\n",
       "      <td>normal</td>\n",
       "      <td>1.0</td>\n",
       "      <td>NaN</td>\n",
       "      <td>8</td>\n",
       "      <td>1.6.0</td>\n",
       "    </tr>\n",
       "  </tbody>\n",
       "</table>\n",
       "</div>"
      ],
      "text/plain": [
       "   event_id   date_time event_name  level  \\\n",
       "0        48  2023-10-28   game_end      1   \n",
       "1        49  2023-10-28   game_end      1   \n",
       "2        50  2023-10-28   game_end      2   \n",
       "3        51  2023-10-28   game_end      3   \n",
       "4        52  2023-10-28   game_end      4   \n",
       "\n",
       "                                   user  day_diff        day0 mode_game  win  \\\n",
       "0  1cffd052-4616-4d29-bfd5-950e23b763d4       0.0  2023-10-28    normal  0.0   \n",
       "1  1cffd052-4616-4d29-bfd5-950e23b763d4       0.0  2023-10-28    normal  1.0   \n",
       "2  1cffd052-4616-4d29-bfd5-950e23b763d4       0.0  2023-10-28    normal  1.0   \n",
       "3  1cffd052-4616-4d29-bfd5-950e23b763d4       0.0  2023-10-28    normal  1.0   \n",
       "4  1cffd052-4616-4d29-bfd5-950e23b763d4       0.0  2023-10-28    normal  1.0   \n",
       "\n",
       "  reason_to_die  quantity version  \n",
       "0  out_of_lives        31   1.6.0  \n",
       "1           NaN        18   1.6.0  \n",
       "2           NaN        10   1.6.0  \n",
       "3           NaN         9   1.6.0  \n",
       "4           NaN         8   1.6.0  "
      ]
     },
     "execution_count": 239,
     "metadata": {},
     "output_type": "execute_result"
    }
   ],
   "source": [
    "# load in game_end dataset and print out the head \n",
    "game_end=pd.read_csv('D:/indiez_assign/data/processed/game_end.csv')\n",
    "game_end.head()"
   ]
  },
  {
   "cell_type": "code",
   "execution_count": 240,
   "id": "8cb8c21d9ed803b8",
   "metadata": {
    "ExecuteTime": {
     "end_time": "2024-07-02T17:32:19.825928500Z",
     "start_time": "2024-07-02T17:32:18.592451900Z"
    }
   },
   "outputs": [
    {
     "data": {
      "text/plain": [
       "(243697, 12)"
      ]
     },
     "execution_count": 240,
     "metadata": {},
     "output_type": "execute_result"
    }
   ],
   "source": [
    "# check the rows and columns of game_end dataset\n",
    "game_end.shape  "
   ]
  },
  {
   "cell_type": "code",
   "execution_count": 241,
   "id": "351a215131074225",
   "metadata": {
    "ExecuteTime": {
     "end_time": "2024-07-02T17:32:19.825928500Z",
     "start_time": "2024-07-02T17:32:18.600679700Z"
    }
   },
   "outputs": [
    {
     "data": {
      "text/plain": [
       "event_id           int64\n",
       "date_time         object\n",
       "event_name        object\n",
       "level              int64\n",
       "user              object\n",
       "day_diff         float64\n",
       "day0              object\n",
       "mode_game         object\n",
       "win              float64\n",
       "reason_to_die     object\n",
       "quantity           int64\n",
       "version           object\n",
       "dtype: object"
      ]
     },
     "execution_count": 241,
     "metadata": {},
     "output_type": "execute_result"
    }
   ],
   "source": [
    "# check datatypes to see if there are some wrongly categorized types in game_end dataset\n",
    "game_end.dtypes"
   ]
  },
  {
   "cell_type": "code",
   "execution_count": 242,
   "id": "85239c021ede7077",
   "metadata": {
    "ExecuteTime": {
     "end_time": "2024-07-02T17:32:19.825928500Z",
     "start_time": "2024-07-02T17:32:18.609355Z"
    }
   },
   "outputs": [],
   "source": [
    "# Convert float columns from float to int\n",
    "game_end['day_diff'] = game_end['day_diff'].astype(int)\n",
    "game_end['win'] = game_end['win'].astype(int)"
   ]
  },
  {
   "cell_type": "code",
   "execution_count": 243,
   "id": "94a3a0111ffca3fe",
   "metadata": {
    "ExecuteTime": {
     "end_time": "2024-07-02T17:32:19.827955500Z",
     "start_time": "2024-07-02T17:32:18.619954100Z"
    }
   },
   "outputs": [
    {
     "data": {
      "text/plain": [
       "event_id         243697\n",
       "date_time            14\n",
       "event_name            1\n",
       "level               518\n",
       "user              13042\n",
       "day_diff              8\n",
       "day0                  7\n",
       "mode_game             1\n",
       "win                   2\n",
       "reason_to_die         2\n",
       "quantity           1034\n",
       "version               2\n",
       "dtype: int64"
      ]
     },
     "execution_count": 243,
     "metadata": {},
     "output_type": "execute_result"
    }
   ],
   "source": [
    "# check each columns number of unique values \n",
    "game_end.nunique()"
   ]
  },
  {
   "cell_type": "code",
   "execution_count": 244,
   "id": "8d80d2f905b1861b",
   "metadata": {
    "ExecuteTime": {
     "end_time": "2024-07-02T17:32:19.828978500Z",
     "start_time": "2024-07-02T17:32:18.760431700Z"
    }
   },
   "outputs": [
    {
     "data": {
      "text/html": [
       "<div>\n",
       "<style scoped>\n",
       "    .dataframe tbody tr th:only-of-type {\n",
       "        vertical-align: middle;\n",
       "    }\n",
       "\n",
       "    .dataframe tbody tr th {\n",
       "        vertical-align: top;\n",
       "    }\n",
       "\n",
       "    .dataframe thead th {\n",
       "        text-align: right;\n",
       "    }\n",
       "</style>\n",
       "<table border=\"1\" class=\"dataframe\">\n",
       "  <thead>\n",
       "    <tr style=\"text-align: right;\">\n",
       "      <th></th>\n",
       "      <th>event_id</th>\n",
       "      <th>level</th>\n",
       "      <th>day_diff</th>\n",
       "      <th>win</th>\n",
       "      <th>quantity</th>\n",
       "    </tr>\n",
       "  </thead>\n",
       "  <tbody>\n",
       "    <tr>\n",
       "      <th>count</th>\n",
       "      <td>2.436970e+05</td>\n",
       "      <td>243697.000000</td>\n",
       "      <td>243697.000000</td>\n",
       "      <td>243697.000000</td>\n",
       "      <td>243697.000000</td>\n",
       "    </tr>\n",
       "    <tr>\n",
       "      <th>mean</th>\n",
       "      <td>2.451077e+06</td>\n",
       "      <td>25.443284</td>\n",
       "      <td>1.110252</td>\n",
       "      <td>0.518201</td>\n",
       "      <td>47.377797</td>\n",
       "    </tr>\n",
       "    <tr>\n",
       "      <th>std</th>\n",
       "      <td>1.382828e+06</td>\n",
       "      <td>44.866007</td>\n",
       "      <td>1.760307</td>\n",
       "      <td>0.499670</td>\n",
       "      <td>89.904959</td>\n",
       "    </tr>\n",
       "    <tr>\n",
       "      <th>min</th>\n",
       "      <td>4.800000e+01</td>\n",
       "      <td>1.000000</td>\n",
       "      <td>0.000000</td>\n",
       "      <td>0.000000</td>\n",
       "      <td>2.000000</td>\n",
       "    </tr>\n",
       "    <tr>\n",
       "      <th>25%</th>\n",
       "      <td>1.243079e+06</td>\n",
       "      <td>5.000000</td>\n",
       "      <td>0.000000</td>\n",
       "      <td>0.000000</td>\n",
       "      <td>14.000000</td>\n",
       "    </tr>\n",
       "    <tr>\n",
       "      <th>50%</th>\n",
       "      <td>2.480019e+06</td>\n",
       "      <td>12.000000</td>\n",
       "      <td>0.000000</td>\n",
       "      <td>1.000000</td>\n",
       "      <td>25.000000</td>\n",
       "    </tr>\n",
       "    <tr>\n",
       "      <th>75%</th>\n",
       "      <td>3.581332e+06</td>\n",
       "      <td>23.000000</td>\n",
       "      <td>2.000000</td>\n",
       "      <td>1.000000</td>\n",
       "      <td>49.000000</td>\n",
       "    </tr>\n",
       "    <tr>\n",
       "      <th>max</th>\n",
       "      <td>7.501776e+06</td>\n",
       "      <td>518.000000</td>\n",
       "      <td>7.000000</td>\n",
       "      <td>1.000000</td>\n",
       "      <td>15642.000000</td>\n",
       "    </tr>\n",
       "  </tbody>\n",
       "</table>\n",
       "</div>"
      ],
      "text/plain": [
       "           event_id          level       day_diff            win  \\\n",
       "count  2.436970e+05  243697.000000  243697.000000  243697.000000   \n",
       "mean   2.451077e+06      25.443284       1.110252       0.518201   \n",
       "std    1.382828e+06      44.866007       1.760307       0.499670   \n",
       "min    4.800000e+01       1.000000       0.000000       0.000000   \n",
       "25%    1.243079e+06       5.000000       0.000000       0.000000   \n",
       "50%    2.480019e+06      12.000000       0.000000       1.000000   \n",
       "75%    3.581332e+06      23.000000       2.000000       1.000000   \n",
       "max    7.501776e+06     518.000000       7.000000       1.000000   \n",
       "\n",
       "            quantity  \n",
       "count  243697.000000  \n",
       "mean       47.377797  \n",
       "std        89.904959  \n",
       "min         2.000000  \n",
       "25%        14.000000  \n",
       "50%        25.000000  \n",
       "75%        49.000000  \n",
       "max     15642.000000  "
      ]
     },
     "execution_count": 244,
     "metadata": {},
     "output_type": "execute_result"
    }
   ],
   "source": [
    "# statistic values for game_end dataset\n",
    "game_end.describe()"
   ]
  },
  {
   "cell_type": "code",
   "execution_count": 245,
   "id": "47ba1aeb16984e6c",
   "metadata": {
    "ExecuteTime": {
     "end_time": "2024-07-02T17:32:19.832418900Z",
     "start_time": "2024-07-02T17:32:18.824468700Z"
    }
   },
   "outputs": [
    {
     "name": "stdout",
     "output_type": "stream",
     "text": [
      "<class 'pandas.core.frame.DataFrame'>\n",
      "RangeIndex: 243697 entries, 0 to 243696\n",
      "Data columns (total 12 columns):\n",
      " #   Column         Non-Null Count   Dtype \n",
      "---  ------         --------------   ----- \n",
      " 0   event_id       243697 non-null  int64 \n",
      " 1   date_time      243697 non-null  object\n",
      " 2   event_name     243697 non-null  object\n",
      " 3   level          243697 non-null  int64 \n",
      " 4   user           243697 non-null  object\n",
      " 5   day_diff       243697 non-null  int32 \n",
      " 6   day0           243697 non-null  object\n",
      " 7   mode_game      243697 non-null  object\n",
      " 8   win            243697 non-null  int32 \n",
      " 9   reason_to_die  117413 non-null  object\n",
      " 10  quantity       243697 non-null  int64 \n",
      " 11  version        243697 non-null  object\n",
      "dtypes: int32(2), int64(3), object(7)\n",
      "memory usage: 20.5+ MB\n"
     ]
    }
   ],
   "source": [
    "game_end.info()"
   ]
  },
  {
   "cell_type": "code",
   "execution_count": 246,
   "id": "83d43fd716435fa1",
   "metadata": {
    "ExecuteTime": {
     "end_time": "2024-07-02T17:32:19.833419400Z",
     "start_time": "2024-07-02T17:32:18.880778500Z"
    }
   },
   "outputs": [
    {
     "data": {
      "text/plain": [
       "event_id              0\n",
       "date_time             0\n",
       "event_name            0\n",
       "level                 0\n",
       "user                  0\n",
       "day_diff              0\n",
       "day0                  0\n",
       "mode_game             0\n",
       "win                   0\n",
       "reason_to_die    126284\n",
       "quantity              0\n",
       "version               0\n",
       "dtype: int64"
      ]
     },
     "execution_count": 246,
     "metadata": {},
     "output_type": "execute_result"
    }
   ],
   "source": [
    "game_end.isnull().sum()"
   ]
  },
  {
   "cell_type": "code",
   "execution_count": 247,
   "id": "9f2784a7230f1303",
   "metadata": {
    "ExecuteTime": {
     "end_time": "2024-07-02T17:32:19.834419200Z",
     "start_time": "2024-07-02T17:32:18.939041600Z"
    }
   },
   "outputs": [],
   "source": [
    "# For all missing data with object as datatype , I fill in with string \"unknown\"\n",
    "game_end['reason_to_die'].fillna('unknown',inplace=True) "
   ]
  },
  {
   "cell_type": "code",
   "execution_count": 248,
   "id": "b8ee5ba2bd035969",
   "metadata": {
    "ExecuteTime": {
     "end_time": "2024-07-02T17:32:19.835702500Z",
     "start_time": "2024-07-02T17:32:18.956756900Z"
    }
   },
   "outputs": [
    {
     "data": {
      "text/plain": [
       "event_id         0\n",
       "date_time        0\n",
       "event_name       0\n",
       "level            0\n",
       "user             0\n",
       "day_diff         0\n",
       "day0             0\n",
       "mode_game        0\n",
       "win              0\n",
       "reason_to_die    0\n",
       "quantity         0\n",
       "version          0\n",
       "dtype: int64"
      ]
     },
     "execution_count": 248,
     "metadata": {},
     "output_type": "execute_result"
    }
   ],
   "source": [
    "# confirm game_end dataset after fillna\n",
    "game_end.isnull().sum()"
   ]
  },
  {
   "cell_type": "code",
   "execution_count": 249,
   "id": "7192d1e7ad0ff022",
   "metadata": {
    "ExecuteTime": {
     "end_time": "2024-07-02T17:32:19.836704300Z",
     "start_time": "2024-07-02T17:32:19.014594800Z"
    }
   },
   "outputs": [
    {
     "data": {
      "text/plain": [
       "0"
      ]
     },
     "execution_count": 249,
     "metadata": {},
     "output_type": "execute_result"
    }
   ],
   "source": [
    "# check if there are some duplicates in game_end dataset\n",
    "game_end.duplicated().sum()"
   ]
  },
  {
   "cell_type": "code",
   "execution_count": 250,
   "id": "fe1c2f42a1cc13e0",
   "metadata": {
    "ExecuteTime": {
     "end_time": "2024-07-02T17:32:19.836704300Z",
     "start_time": "2024-07-02T17:32:19.221147500Z"
    }
   },
   "outputs": [
    {
     "data": {
      "text/plain": [
       "0"
      ]
     },
     "execution_count": 250,
     "metadata": {},
     "output_type": "execute_result"
    }
   ],
   "source": [
    "# drop the duplicates\n",
    "game_end.drop_duplicates(inplace=True) \n",
    "# confirm again \n",
    "game_end.duplicated().sum() "
   ]
  },
  {
   "cell_type": "code",
   "execution_count": 251,
   "id": "82eaa846c4bd5365",
   "metadata": {
    "ExecuteTime": {
     "end_time": "2024-07-02T17:32:21.819195500Z",
     "start_time": "2024-07-02T17:32:19.605433100Z"
    }
   },
   "outputs": [
    {
     "data": {
      "image/png": "[encoded data removed]",
      "text/plain": [
       "<Figure size 2000x1000 with 6 Axes>"
      ]
     },
     "metadata": {},
     "output_type": "display_data"
    }
   ],
   "source": [
    "# visulize each variables \n",
    "game_end.hist(figsize=(20,10));"
   ]
  },
  {
   "cell_type": "markdown",
   "id": "e42b92a01225e2e8",
   "metadata": {},
   "source": [
    "2. *game_start* dataset"
   ]
  },
  {
   "cell_type": "code",
   "execution_count": 252,
   "id": "a83176c1bafe9000",
   "metadata": {
    "ExecuteTime": {
     "end_time": "2024-07-02T17:32:22.253352400Z",
     "start_time": "2024-07-02T17:32:21.820194600Z"
    }
   },
   "outputs": [
    {
     "data": {
      "text/html": [
       "<div>\n",
       "<style scoped>\n",
       "    .dataframe tbody tr th:only-of-type {\n",
       "        vertical-align: middle;\n",
       "    }\n",
       "\n",
       "    .dataframe tbody tr th {\n",
       "        vertical-align: top;\n",
       "    }\n",
       "\n",
       "    .dataframe thead th {\n",
       "        text-align: right;\n",
       "    }\n",
       "</style>\n",
       "<table border=\"1\" class=\"dataframe\">\n",
       "  <thead>\n",
       "    <tr style=\"text-align: right;\">\n",
       "      <th></th>\n",
       "      <th>event_id</th>\n",
       "      <th>date_time</th>\n",
       "      <th>event_name</th>\n",
       "      <th>level</th>\n",
       "      <th>user</th>\n",
       "      <th>day_diff</th>\n",
       "      <th>day0</th>\n",
       "      <th>mode_game</th>\n",
       "      <th>quantity</th>\n",
       "      <th>version</th>\n",
       "    </tr>\n",
       "  </thead>\n",
       "  <tbody>\n",
       "    <tr>\n",
       "      <th>0</th>\n",
       "      <td>40</td>\n",
       "      <td>2023-10-28</td>\n",
       "      <td>game_start</td>\n",
       "      <td>1</td>\n",
       "      <td>1cffd052-4616-4d29-bfd5-950e23b763d4</td>\n",
       "      <td>0.0</td>\n",
       "      <td>2023-10-28</td>\n",
       "      <td>normal</td>\n",
       "      <td>0</td>\n",
       "      <td>1.6.0</td>\n",
       "    </tr>\n",
       "    <tr>\n",
       "      <th>1</th>\n",
       "      <td>41</td>\n",
       "      <td>2023-10-28</td>\n",
       "      <td>game_start</td>\n",
       "      <td>1</td>\n",
       "      <td>1cffd052-4616-4d29-bfd5-950e23b763d4</td>\n",
       "      <td>0.0</td>\n",
       "      <td>2023-10-28</td>\n",
       "      <td>normal</td>\n",
       "      <td>0</td>\n",
       "      <td>1.6.0</td>\n",
       "    </tr>\n",
       "    <tr>\n",
       "      <th>2</th>\n",
       "      <td>42</td>\n",
       "      <td>2023-10-28</td>\n",
       "      <td>game_start</td>\n",
       "      <td>2</td>\n",
       "      <td>1cffd052-4616-4d29-bfd5-950e23b763d4</td>\n",
       "      <td>0.0</td>\n",
       "      <td>2023-10-28</td>\n",
       "      <td>normal</td>\n",
       "      <td>0</td>\n",
       "      <td>1.6.0</td>\n",
       "    </tr>\n",
       "    <tr>\n",
       "      <th>3</th>\n",
       "      <td>43</td>\n",
       "      <td>2023-10-28</td>\n",
       "      <td>game_start</td>\n",
       "      <td>3</td>\n",
       "      <td>1cffd052-4616-4d29-bfd5-950e23b763d4</td>\n",
       "      <td>0.0</td>\n",
       "      <td>2023-10-28</td>\n",
       "      <td>normal</td>\n",
       "      <td>0</td>\n",
       "      <td>1.6.0</td>\n",
       "    </tr>\n",
       "    <tr>\n",
       "      <th>4</th>\n",
       "      <td>44</td>\n",
       "      <td>2023-10-28</td>\n",
       "      <td>game_start</td>\n",
       "      <td>4</td>\n",
       "      <td>1cffd052-4616-4d29-bfd5-950e23b763d4</td>\n",
       "      <td>0.0</td>\n",
       "      <td>2023-10-28</td>\n",
       "      <td>normal</td>\n",
       "      <td>0</td>\n",
       "      <td>1.6.0</td>\n",
       "    </tr>\n",
       "  </tbody>\n",
       "</table>\n",
       "</div>"
      ],
      "text/plain": [
       "   event_id   date_time  event_name  level  \\\n",
       "0        40  2023-10-28  game_start      1   \n",
       "1        41  2023-10-28  game_start      1   \n",
       "2        42  2023-10-28  game_start      2   \n",
       "3        43  2023-10-28  game_start      3   \n",
       "4        44  2023-10-28  game_start      4   \n",
       "\n",
       "                                   user  day_diff        day0 mode_game  \\\n",
       "0  1cffd052-4616-4d29-bfd5-950e23b763d4       0.0  2023-10-28    normal   \n",
       "1  1cffd052-4616-4d29-bfd5-950e23b763d4       0.0  2023-10-28    normal   \n",
       "2  1cffd052-4616-4d29-bfd5-950e23b763d4       0.0  2023-10-28    normal   \n",
       "3  1cffd052-4616-4d29-bfd5-950e23b763d4       0.0  2023-10-28    normal   \n",
       "4  1cffd052-4616-4d29-bfd5-950e23b763d4       0.0  2023-10-28    normal   \n",
       "\n",
       "   quantity version  \n",
       "0         0   1.6.0  \n",
       "1         0   1.6.0  \n",
       "2         0   1.6.0  \n",
       "3         0   1.6.0  \n",
       "4         0   1.6.0  "
      ]
     },
     "execution_count": 252,
     "metadata": {},
     "output_type": "execute_result"
    }
   ],
   "source": [
    "# load in game_start dataset and print out the head \n",
    "game_start=pd.read_csv('D:/indiez_assign/data/processed/game_start.csv')\n",
    "game_start.head()"
   ]
  },
  {
   "cell_type": "code",
   "execution_count": 253,
   "id": "e6e4024c441d022e",
   "metadata": {
    "ExecuteTime": {
     "end_time": "2024-07-02T17:32:22.273689400Z",
     "start_time": "2024-07-02T17:32:22.251966800Z"
    }
   },
   "outputs": [
    {
     "data": {
      "text/plain": [
       "(249799, 10)"
      ]
     },
     "execution_count": 253,
     "metadata": {},
     "output_type": "execute_result"
    }
   ],
   "source": [
    "# check the rows and columns of game_start dataset\n",
    "game_start.shape  "
   ]
  },
  {
   "cell_type": "code",
   "execution_count": 254,
   "id": "9ebea5c2f8ca67ad",
   "metadata": {
    "ExecuteTime": {
     "end_time": "2024-07-02T17:32:22.275817300Z",
     "start_time": "2024-07-02T17:32:22.260001700Z"
    }
   },
   "outputs": [
    {
     "data": {
      "text/plain": [
       "event_id        int64\n",
       "date_time      object\n",
       "event_name     object\n",
       "level           int64\n",
       "user           object\n",
       "day_diff      float64\n",
       "day0           object\n",
       "mode_game      object\n",
       "quantity        int64\n",
       "version        object\n",
       "dtype: object"
      ]
     },
     "execution_count": 254,
     "metadata": {},
     "output_type": "execute_result"
    }
   ],
   "source": [
    "# check datatypes to see if there are some wrongly categorized types in game_start dataset\n",
    "game_start.dtypes"
   ]
  },
  {
   "cell_type": "code",
   "execution_count": 255,
   "id": "b2442bcbf9b63f8f",
   "metadata": {
    "ExecuteTime": {
     "end_time": "2024-07-02T17:32:22.311364400Z",
     "start_time": "2024-07-02T17:32:22.271168200Z"
    }
   },
   "outputs": [],
   "source": [
    "# Convert float columns from float to int\n",
    "game_start['day_diff'] = game_start['day_diff'].astype(int)"
   ]
  },
  {
   "cell_type": "code",
   "execution_count": 256,
   "id": "c15cfee9cce90f9e",
   "metadata": {
    "ExecuteTime": {
     "end_time": "2024-07-02T17:32:22.526834100Z",
     "start_time": "2024-07-02T17:32:22.277315400Z"
    }
   },
   "outputs": [
    {
     "data": {
      "text/plain": [
       "event_id      249799\n",
       "date_time         14\n",
       "event_name         1\n",
       "level            519\n",
       "user           13255\n",
       "day_diff           8\n",
       "day0               7\n",
       "mode_game          1\n",
       "quantity           1\n",
       "version            2\n",
       "dtype: int64"
      ]
     },
     "execution_count": 256,
     "metadata": {},
     "output_type": "execute_result"
    }
   ],
   "source": [
    "# check each columns number of unique values \n",
    "game_start.nunique()"
   ]
  },
  {
   "cell_type": "code",
   "execution_count": 257,
   "id": "fcca3f72aef25f6e",
   "metadata": {
    "ExecuteTime": {
     "end_time": "2024-07-02T17:32:22.527853100Z",
     "start_time": "2024-07-02T17:32:22.408920500Z"
    }
   },
   "outputs": [
    {
     "data": {
      "text/html": [
       "<div>\n",
       "<style scoped>\n",
       "    .dataframe tbody tr th:only-of-type {\n",
       "        vertical-align: middle;\n",
       "    }\n",
       "\n",
       "    .dataframe tbody tr th {\n",
       "        vertical-align: top;\n",
       "    }\n",
       "\n",
       "    .dataframe thead th {\n",
       "        text-align: right;\n",
       "    }\n",
       "</style>\n",
       "<table border=\"1\" class=\"dataframe\">\n",
       "  <thead>\n",
       "    <tr style=\"text-align: right;\">\n",
       "      <th></th>\n",
       "      <th>event_id</th>\n",
       "      <th>level</th>\n",
       "      <th>day_diff</th>\n",
       "      <th>quantity</th>\n",
       "    </tr>\n",
       "  </thead>\n",
       "  <tbody>\n",
       "    <tr>\n",
       "      <th>count</th>\n",
       "      <td>2.497990e+05</td>\n",
       "      <td>249799.000000</td>\n",
       "      <td>249799.000000</td>\n",
       "      <td>249799.0</td>\n",
       "    </tr>\n",
       "    <tr>\n",
       "      <th>mean</th>\n",
       "      <td>2.450962e+06</td>\n",
       "      <td>25.370042</td>\n",
       "      <td>1.108519</td>\n",
       "      <td>0.0</td>\n",
       "    </tr>\n",
       "    <tr>\n",
       "      <th>std</th>\n",
       "      <td>1.382872e+06</td>\n",
       "      <td>44.664307</td>\n",
       "      <td>1.759160</td>\n",
       "      <td>0.0</td>\n",
       "    </tr>\n",
       "    <tr>\n",
       "      <th>min</th>\n",
       "      <td>4.000000e+01</td>\n",
       "      <td>1.000000</td>\n",
       "      <td>0.000000</td>\n",
       "      <td>0.0</td>\n",
       "    </tr>\n",
       "    <tr>\n",
       "      <th>25%</th>\n",
       "      <td>1.244066e+06</td>\n",
       "      <td>5.000000</td>\n",
       "      <td>0.000000</td>\n",
       "      <td>0.0</td>\n",
       "    </tr>\n",
       "    <tr>\n",
       "      <th>50%</th>\n",
       "      <td>2.479657e+06</td>\n",
       "      <td>12.000000</td>\n",
       "      <td>0.000000</td>\n",
       "      <td>0.0</td>\n",
       "    </tr>\n",
       "    <tr>\n",
       "      <th>75%</th>\n",
       "      <td>3.581286e+06</td>\n",
       "      <td>23.000000</td>\n",
       "      <td>2.000000</td>\n",
       "      <td>0.0</td>\n",
       "    </tr>\n",
       "    <tr>\n",
       "      <th>max</th>\n",
       "      <td>7.501770e+06</td>\n",
       "      <td>519.000000</td>\n",
       "      <td>7.000000</td>\n",
       "      <td>0.0</td>\n",
       "    </tr>\n",
       "  </tbody>\n",
       "</table>\n",
       "</div>"
      ],
      "text/plain": [
       "           event_id          level       day_diff  quantity\n",
       "count  2.497990e+05  249799.000000  249799.000000  249799.0\n",
       "mean   2.450962e+06      25.370042       1.108519       0.0\n",
       "std    1.382872e+06      44.664307       1.759160       0.0\n",
       "min    4.000000e+01       1.000000       0.000000       0.0\n",
       "25%    1.244066e+06       5.000000       0.000000       0.0\n",
       "50%    2.479657e+06      12.000000       0.000000       0.0\n",
       "75%    3.581286e+06      23.000000       2.000000       0.0\n",
       "max    7.501770e+06     519.000000       7.000000       0.0"
      ]
     },
     "execution_count": 257,
     "metadata": {},
     "output_type": "execute_result"
    }
   ],
   "source": [
    "# statistic values for game_start dataset\n",
    "game_start.describe()"
   ]
  },
  {
   "cell_type": "code",
   "execution_count": 258,
   "id": "e735a504aa9aa685",
   "metadata": {
    "ExecuteTime": {
     "end_time": "2024-07-02T17:32:22.529886600Z",
     "start_time": "2024-07-02T17:32:22.447654700Z"
    }
   },
   "outputs": [
    {
     "name": "stdout",
     "output_type": "stream",
     "text": [
      "<class 'pandas.core.frame.DataFrame'>\n",
      "RangeIndex: 249799 entries, 0 to 249798\n",
      "Data columns (total 10 columns):\n",
      " #   Column      Non-Null Count   Dtype \n",
      "---  ------      --------------   ----- \n",
      " 0   event_id    249799 non-null  int64 \n",
      " 1   date_time   249799 non-null  object\n",
      " 2   event_name  249799 non-null  object\n",
      " 3   level       249799 non-null  int64 \n",
      " 4   user        249799 non-null  object\n",
      " 5   day_diff    249799 non-null  int32 \n",
      " 6   day0        249799 non-null  object\n",
      " 7   mode_game   249799 non-null  object\n",
      " 8   quantity    249799 non-null  int64 \n",
      " 9   version     249799 non-null  object\n",
      "dtypes: int32(1), int64(3), object(6)\n",
      "memory usage: 18.1+ MB\n"
     ]
    }
   ],
   "source": [
    "game_start.info()"
   ]
  },
  {
   "cell_type": "code",
   "execution_count": 259,
   "id": "6e121a6ef0ea7bd3",
   "metadata": {
    "ExecuteTime": {
     "end_time": "2024-07-02T17:32:22.625369800Z",
     "start_time": "2024-07-02T17:32:22.510180700Z"
    }
   },
   "outputs": [
    {
     "data": {
      "text/plain": [
       "event_id      0\n",
       "date_time     0\n",
       "event_name    0\n",
       "level         0\n",
       "user          0\n",
       "day_diff      0\n",
       "day0          0\n",
       "mode_game     0\n",
       "quantity      0\n",
       "version       0\n",
       "dtype: int64"
      ]
     },
     "execution_count": 259,
     "metadata": {},
     "output_type": "execute_result"
    }
   ],
   "source": [
    "game_start.isnull().sum()"
   ]
  },
  {
   "cell_type": "code",
   "execution_count": 260,
   "id": "848e86a54e371a70",
   "metadata": {
    "ExecuteTime": {
     "end_time": "2024-07-02T17:32:22.782665700Z",
     "start_time": "2024-07-02T17:32:22.559632900Z"
    }
   },
   "outputs": [
    {
     "data": {
      "text/plain": [
       "0"
      ]
     },
     "execution_count": 260,
     "metadata": {},
     "output_type": "execute_result"
    }
   ],
   "source": [
    "# check if there are some duplicates in game_start dataset\n",
    "game_start.duplicated().sum()"
   ]
  },
  {
   "cell_type": "code",
   "execution_count": 261,
   "id": "87465cd5240eca2c",
   "metadata": {
    "ExecuteTime": {
     "end_time": "2024-07-02T17:32:23.984540300Z",
     "start_time": "2024-07-02T17:32:22.734822Z"
    }
   },
   "outputs": [
    {
     "data": {
      "image/png": "[encoded data removed]",
      "text/plain": [
       "<Figure size 2000x1000 with 4 Axes>"
      ]
     },
     "metadata": {},
     "output_type": "display_data"
    }
   ],
   "source": [
    "# visualize each variables \n",
    "game_start.hist(figsize=(20,10));"
   ]
  },
  {
   "cell_type": "markdown",
   "id": "e57be61bedc75bc0",
   "metadata": {},
   "source": [
    "3. *tutorial* dataset"
   ]
  },
  {
   "cell_type": "code",
   "execution_count": 262,
   "id": "e94f45be39e452a1",
   "metadata": {
    "ExecuteTime": {
     "end_time": "2024-07-02T17:32:24.191931600Z",
     "start_time": "2024-07-02T17:32:23.983034300Z"
    }
   },
   "outputs": [
    {
     "data": {
      "text/html": [
       "<div>\n",
       "<style scoped>\n",
       "    .dataframe tbody tr th:only-of-type {\n",
       "        vertical-align: middle;\n",
       "    }\n",
       "\n",
       "    .dataframe tbody tr th {\n",
       "        vertical-align: top;\n",
       "    }\n",
       "\n",
       "    .dataframe thead th {\n",
       "        text-align: right;\n",
       "    }\n",
       "</style>\n",
       "<table border=\"1\" class=\"dataframe\">\n",
       "  <thead>\n",
       "    <tr style=\"text-align: right;\">\n",
       "      <th></th>\n",
       "      <th>event_id</th>\n",
       "      <th>date_time</th>\n",
       "      <th>event_name</th>\n",
       "      <th>level</th>\n",
       "      <th>user</th>\n",
       "      <th>day_diff</th>\n",
       "      <th>day0</th>\n",
       "      <th>mode_game</th>\n",
       "      <th>quantity</th>\n",
       "      <th>version</th>\n",
       "    </tr>\n",
       "  </thead>\n",
       "  <tbody>\n",
       "    <tr>\n",
       "      <th>0</th>\n",
       "      <td>147</td>\n",
       "      <td>2023-10-28</td>\n",
       "      <td>tutorial</td>\n",
       "      <td>1</td>\n",
       "      <td>1cffd052-4616-4d29-bfd5-950e23b763d4</td>\n",
       "      <td>0.0</td>\n",
       "      <td>2023-10-28</td>\n",
       "      <td>tutorial</td>\n",
       "      <td>-1</td>\n",
       "      <td>1.6.0</td>\n",
       "    </tr>\n",
       "    <tr>\n",
       "      <th>1</th>\n",
       "      <td>148</td>\n",
       "      <td>2023-10-28</td>\n",
       "      <td>tutorial</td>\n",
       "      <td>1</td>\n",
       "      <td>1cffd052-4616-4d29-bfd5-950e23b763d4</td>\n",
       "      <td>0.0</td>\n",
       "      <td>2023-10-28</td>\n",
       "      <td>tutorial</td>\n",
       "      <td>1</td>\n",
       "      <td>1.6.0</td>\n",
       "    </tr>\n",
       "    <tr>\n",
       "      <th>2</th>\n",
       "      <td>149</td>\n",
       "      <td>2023-10-28</td>\n",
       "      <td>tutorial</td>\n",
       "      <td>1</td>\n",
       "      <td>1cffd052-4616-4d29-bfd5-950e23b763d4</td>\n",
       "      <td>0.0</td>\n",
       "      <td>2023-10-28</td>\n",
       "      <td>tutorial</td>\n",
       "      <td>2</td>\n",
       "      <td>1.6.0</td>\n",
       "    </tr>\n",
       "    <tr>\n",
       "      <th>3</th>\n",
       "      <td>150</td>\n",
       "      <td>2023-10-28</td>\n",
       "      <td>tutorial</td>\n",
       "      <td>1</td>\n",
       "      <td>1cffd052-4616-4d29-bfd5-950e23b763d4</td>\n",
       "      <td>0.0</td>\n",
       "      <td>2023-10-28</td>\n",
       "      <td>tutorial</td>\n",
       "      <td>3</td>\n",
       "      <td>1.6.0</td>\n",
       "    </tr>\n",
       "    <tr>\n",
       "      <th>4</th>\n",
       "      <td>151</td>\n",
       "      <td>2023-10-28</td>\n",
       "      <td>tutorial</td>\n",
       "      <td>1</td>\n",
       "      <td>1cffd052-4616-4d29-bfd5-950e23b763d4</td>\n",
       "      <td>0.0</td>\n",
       "      <td>2023-10-28</td>\n",
       "      <td>tutorial</td>\n",
       "      <td>4</td>\n",
       "      <td>1.6.0</td>\n",
       "    </tr>\n",
       "  </tbody>\n",
       "</table>\n",
       "</div>"
      ],
      "text/plain": [
       "   event_id   date_time event_name  level  \\\n",
       "0       147  2023-10-28   tutorial      1   \n",
       "1       148  2023-10-28   tutorial      1   \n",
       "2       149  2023-10-28   tutorial      1   \n",
       "3       150  2023-10-28   tutorial      1   \n",
       "4       151  2023-10-28   tutorial      1   \n",
       "\n",
       "                                   user  day_diff        day0 mode_game  \\\n",
       "0  1cffd052-4616-4d29-bfd5-950e23b763d4       0.0  2023-10-28  tutorial   \n",
       "1  1cffd052-4616-4d29-bfd5-950e23b763d4       0.0  2023-10-28  tutorial   \n",
       "2  1cffd052-4616-4d29-bfd5-950e23b763d4       0.0  2023-10-28  tutorial   \n",
       "3  1cffd052-4616-4d29-bfd5-950e23b763d4       0.0  2023-10-28  tutorial   \n",
       "4  1cffd052-4616-4d29-bfd5-950e23b763d4       0.0  2023-10-28  tutorial   \n",
       "\n",
       "   quantity version  \n",
       "0        -1   1.6.0  \n",
       "1         1   1.6.0  \n",
       "2         2   1.6.0  \n",
       "3         3   1.6.0  \n",
       "4         4   1.6.0  "
      ]
     },
     "execution_count": 262,
     "metadata": {},
     "output_type": "execute_result"
    }
   ],
   "source": [
    "# load in tutorial dataset and print out the head \n",
    "tutorial=pd.read_csv('D:/indiez_assign/data/processed/tutorial.csv')\n",
    "tutorial.head()"
   ]
  },
  {
   "cell_type": "code",
   "execution_count": 263,
   "id": "b2bd84f61e8e0e1b",
   "metadata": {
    "ExecuteTime": {
     "end_time": "2024-07-02T17:32:24.191931600Z",
     "start_time": "2024-07-02T17:32:24.175624600Z"
    }
   },
   "outputs": [
    {
     "data": {
      "text/plain": [
       "(108587, 10)"
      ]
     },
     "execution_count": 263,
     "metadata": {},
     "output_type": "execute_result"
    }
   ],
   "source": [
    "# check the rows and columns of tutorial dataset\n",
    "tutorial.shape  "
   ]
  },
  {
   "cell_type": "code",
   "execution_count": 264,
   "id": "27f8b7bed19c69d7",
   "metadata": {
    "ExecuteTime": {
     "end_time": "2024-07-02T17:32:24.193097400Z",
     "start_time": "2024-07-02T17:32:24.182780500Z"
    }
   },
   "outputs": [
    {
     "data": {
      "text/plain": [
       "event_id        int64\n",
       "date_time      object\n",
       "event_name     object\n",
       "level           int64\n",
       "user           object\n",
       "day_diff      float64\n",
       "day0           object\n",
       "mode_game      object\n",
       "quantity        int64\n",
       "version        object\n",
       "dtype: object"
      ]
     },
     "execution_count": 264,
     "metadata": {},
     "output_type": "execute_result"
    }
   ],
   "source": [
    "# check datatypes to see if there are some wrongly categorized types in tutorial dataset\n",
    "tutorial.dtypes"
   ]
  },
  {
   "cell_type": "code",
   "execution_count": 265,
   "id": "9578c4c1b2714a71",
   "metadata": {
    "ExecuteTime": {
     "end_time": "2024-07-02T17:32:24.262960300Z",
     "start_time": "2024-07-02T17:32:24.195634800Z"
    }
   },
   "outputs": [],
   "source": [
    "# Convert float columns from float to int\n",
    "tutorial['day_diff'] = tutorial['day_diff'].astype(int)"
   ]
  },
  {
   "cell_type": "code",
   "execution_count": 266,
   "id": "2da328988851ec7a",
   "metadata": {
    "ExecuteTime": {
     "end_time": "2024-07-02T17:32:24.381994900Z",
     "start_time": "2024-07-02T17:32:24.204459700Z"
    }
   },
   "outputs": [
    {
     "data": {
      "text/plain": [
       "event_id      108587\n",
       "date_time         13\n",
       "event_name         1\n",
       "level             41\n",
       "user           13481\n",
       "day_diff           8\n",
       "day0               7\n",
       "mode_game          1\n",
       "quantity          11\n",
       "version            2\n",
       "dtype: int64"
      ]
     },
     "execution_count": 266,
     "metadata": {},
     "output_type": "execute_result"
    }
   ],
   "source": [
    "# check each columns number of unique values \n",
    "tutorial.nunique()"
   ]
  },
  {
   "cell_type": "code",
   "execution_count": 267,
   "id": "42f2488f917f06e0",
   "metadata": {
    "ExecuteTime": {
     "end_time": "2024-07-02T17:32:24.382995Z",
     "start_time": "2024-07-02T17:32:24.274296Z"
    }
   },
   "outputs": [
    {
     "data": {
      "text/html": [
       "<div>\n",
       "<style scoped>\n",
       "    .dataframe tbody tr th:only-of-type {\n",
       "        vertical-align: middle;\n",
       "    }\n",
       "\n",
       "    .dataframe tbody tr th {\n",
       "        vertical-align: top;\n",
       "    }\n",
       "\n",
       "    .dataframe thead th {\n",
       "        text-align: right;\n",
       "    }\n",
       "</style>\n",
       "<table border=\"1\" class=\"dataframe\">\n",
       "  <thead>\n",
       "    <tr style=\"text-align: right;\">\n",
       "      <th></th>\n",
       "      <th>event_id</th>\n",
       "      <th>level</th>\n",
       "      <th>day_diff</th>\n",
       "      <th>quantity</th>\n",
       "    </tr>\n",
       "  </thead>\n",
       "  <tbody>\n",
       "    <tr>\n",
       "      <th>count</th>\n",
       "      <td>1.085870e+05</td>\n",
       "      <td>108587.000000</td>\n",
       "      <td>108587.000000</td>\n",
       "      <td>108587.000000</td>\n",
       "    </tr>\n",
       "    <tr>\n",
       "      <th>mean</th>\n",
       "      <td>2.576075e+06</td>\n",
       "      <td>1.216205</td>\n",
       "      <td>0.027020</td>\n",
       "      <td>2.464816</td>\n",
       "    </tr>\n",
       "    <tr>\n",
       "      <th>std</th>\n",
       "      <td>1.507411e+06</td>\n",
       "      <td>2.262813</td>\n",
       "      <td>0.301622</td>\n",
       "      <td>2.999546</td>\n",
       "    </tr>\n",
       "    <tr>\n",
       "      <th>min</th>\n",
       "      <td>1.470000e+02</td>\n",
       "      <td>1.000000</td>\n",
       "      <td>0.000000</td>\n",
       "      <td>-2.000000</td>\n",
       "    </tr>\n",
       "    <tr>\n",
       "      <th>25%</th>\n",
       "      <td>1.403528e+06</td>\n",
       "      <td>1.000000</td>\n",
       "      <td>0.000000</td>\n",
       "      <td>-1.000000</td>\n",
       "    </tr>\n",
       "    <tr>\n",
       "      <th>50%</th>\n",
       "      <td>2.567019e+06</td>\n",
       "      <td>1.000000</td>\n",
       "      <td>0.000000</td>\n",
       "      <td>2.000000</td>\n",
       "    </tr>\n",
       "    <tr>\n",
       "      <th>75%</th>\n",
       "      <td>3.612922e+06</td>\n",
       "      <td>1.000000</td>\n",
       "      <td>0.000000</td>\n",
       "      <td>4.000000</td>\n",
       "    </tr>\n",
       "    <tr>\n",
       "      <th>max</th>\n",
       "      <td>7.938070e+06</td>\n",
       "      <td>92.000000</td>\n",
       "      <td>7.000000</td>\n",
       "      <td>8.000000</td>\n",
       "    </tr>\n",
       "  </tbody>\n",
       "</table>\n",
       "</div>"
      ],
      "text/plain": [
       "           event_id          level       day_diff       quantity\n",
       "count  1.085870e+05  108587.000000  108587.000000  108587.000000\n",
       "mean   2.576075e+06       1.216205       0.027020       2.464816\n",
       "std    1.507411e+06       2.262813       0.301622       2.999546\n",
       "min    1.470000e+02       1.000000       0.000000      -2.000000\n",
       "25%    1.403528e+06       1.000000       0.000000      -1.000000\n",
       "50%    2.567019e+06       1.000000       0.000000       2.000000\n",
       "75%    3.612922e+06       1.000000       0.000000       4.000000\n",
       "max    7.938070e+06      92.000000       7.000000       8.000000"
      ]
     },
     "execution_count": 267,
     "metadata": {},
     "output_type": "execute_result"
    }
   ],
   "source": [
    "# statistic values for tutorial dataset\n",
    "tutorial.describe()"
   ]
  },
  {
   "cell_type": "code",
   "execution_count": 268,
   "id": "d3036c691315648a",
   "metadata": {
    "ExecuteTime": {
     "end_time": "2024-07-02T17:32:24.424871800Z",
     "start_time": "2024-07-02T17:32:24.300604700Z"
    }
   },
   "outputs": [
    {
     "name": "stdout",
     "output_type": "stream",
     "text": [
      "<class 'pandas.core.frame.DataFrame'>\n",
      "RangeIndex: 108587 entries, 0 to 108586\n",
      "Data columns (total 10 columns):\n",
      " #   Column      Non-Null Count   Dtype \n",
      "---  ------      --------------   ----- \n",
      " 0   event_id    108587 non-null  int64 \n",
      " 1   date_time   108587 non-null  object\n",
      " 2   event_name  108587 non-null  object\n",
      " 3   level       108587 non-null  int64 \n",
      " 4   user        108587 non-null  object\n",
      " 5   day_diff    108587 non-null  int32 \n",
      " 6   day0        108587 non-null  object\n",
      " 7   mode_game   108587 non-null  object\n",
      " 8   quantity    108587 non-null  int64 \n",
      " 9   version     108587 non-null  object\n",
      "dtypes: int32(1), int64(3), object(6)\n",
      "memory usage: 7.9+ MB\n"
     ]
    }
   ],
   "source": [
    "tutorial.info()"
   ]
  },
  {
   "cell_type": "code",
   "execution_count": 269,
   "id": "65149ec2cabc0a16",
   "metadata": {
    "ExecuteTime": {
     "end_time": "2024-07-02T17:32:24.459566200Z",
     "start_time": "2024-07-02T17:32:24.332095300Z"
    }
   },
   "outputs": [
    {
     "data": {
      "text/plain": [
       "event_id      0\n",
       "date_time     0\n",
       "event_name    0\n",
       "level         0\n",
       "user          0\n",
       "day_diff      0\n",
       "day0          0\n",
       "mode_game     0\n",
       "quantity      0\n",
       "version       0\n",
       "dtype: int64"
      ]
     },
     "execution_count": 269,
     "metadata": {},
     "output_type": "execute_result"
    }
   ],
   "source": [
    "tutorial.isnull().sum()"
   ]
  },
  {
   "cell_type": "code",
   "execution_count": 270,
   "id": "c1b7ea9afcecf9c9",
   "metadata": {
    "ExecuteTime": {
     "end_time": "2024-07-02T17:32:24.557638500Z",
     "start_time": "2024-07-02T17:32:24.355983600Z"
    }
   },
   "outputs": [
    {
     "data": {
      "text/plain": [
       "0"
      ]
     },
     "execution_count": 270,
     "metadata": {},
     "output_type": "execute_result"
    }
   ],
   "source": [
    "# check if there are some duplicates in tutorial dataset\n",
    "tutorial.duplicated().sum()"
   ]
  },
  {
   "cell_type": "code",
   "execution_count": 271,
   "id": "5db45c458b2410df",
   "metadata": {
    "ExecuteTime": {
     "end_time": "2024-07-02T17:32:25.804681500Z",
     "start_time": "2024-07-02T17:32:24.432334Z"
    }
   },
   "outputs": [
    {
     "data": {
      "image/png": "[encoded data removed]",
      "text/plain": [
       "<Figure size 2000x1000 with 4 Axes>"
      ]
     },
     "metadata": {},
     "output_type": "display_data"
    }
   ],
   "source": [
    "# visualize each variables \n",
    "tutorial.hist(figsize=(20,10));"
   ]
  },
  {
   "cell_type": "markdown",
   "id": "a3622358d690e789",
   "metadata": {},
   "source": [
    "4. *user_engagement* dataset"
   ]
  },
  {
   "cell_type": "code",
   "execution_count": 272,
   "id": "3dca0f6488d8f4b5",
   "metadata": {
    "ExecuteTime": {
     "end_time": "2024-07-02T17:32:26.228572600Z",
     "start_time": "2024-07-02T17:32:25.804681500Z"
    }
   },
   "outputs": [
    {
     "data": {
      "text/html": [
       "<div>\n",
       "<style scoped>\n",
       "    .dataframe tbody tr th:only-of-type {\n",
       "        vertical-align: middle;\n",
       "    }\n",
       "\n",
       "    .dataframe tbody tr th {\n",
       "        vertical-align: top;\n",
       "    }\n",
       "\n",
       "    .dataframe thead th {\n",
       "        text-align: right;\n",
       "    }\n",
       "</style>\n",
       "<table border=\"1\" class=\"dataframe\">\n",
       "  <thead>\n",
       "    <tr style=\"text-align: right;\">\n",
       "      <th></th>\n",
       "      <th>event_id</th>\n",
       "      <th>date_time</th>\n",
       "      <th>event_name</th>\n",
       "      <th>level</th>\n",
       "      <th>user</th>\n",
       "      <th>day_diff</th>\n",
       "      <th>day0</th>\n",
       "      <th>mode_game</th>\n",
       "      <th>quantity</th>\n",
       "      <th>version</th>\n",
       "    </tr>\n",
       "  </thead>\n",
       "  <tbody>\n",
       "    <tr>\n",
       "      <th>0</th>\n",
       "      <td>162</td>\n",
       "      <td>2023-10-28</td>\n",
       "      <td>user_engagement</td>\n",
       "      <td>1</td>\n",
       "      <td>1cffd052-4616-4d29-bfd5-950e23b763d4</td>\n",
       "      <td>0.0</td>\n",
       "      <td>2023-10-28</td>\n",
       "      <td>ss</td>\n",
       "      <td>0</td>\n",
       "      <td>1.6.0</td>\n",
       "    </tr>\n",
       "    <tr>\n",
       "      <th>1</th>\n",
       "      <td>163</td>\n",
       "      <td>2023-10-28</td>\n",
       "      <td>user_engagement</td>\n",
       "      <td>1</td>\n",
       "      <td>1cffd052-4616-4d29-bfd5-950e23b763d4</td>\n",
       "      <td>0.0</td>\n",
       "      <td>2023-10-28</td>\n",
       "      <td>ue</td>\n",
       "      <td>0</td>\n",
       "      <td>1.6.0</td>\n",
       "    </tr>\n",
       "    <tr>\n",
       "      <th>2</th>\n",
       "      <td>164</td>\n",
       "      <td>2023-10-28</td>\n",
       "      <td>user_engagement</td>\n",
       "      <td>2</td>\n",
       "      <td>1cffd052-4616-4d29-bfd5-950e23b763d4</td>\n",
       "      <td>0.0</td>\n",
       "      <td>2023-10-28</td>\n",
       "      <td>ue</td>\n",
       "      <td>0</td>\n",
       "      <td>1.6.0</td>\n",
       "    </tr>\n",
       "    <tr>\n",
       "      <th>3</th>\n",
       "      <td>165</td>\n",
       "      <td>2023-10-28</td>\n",
       "      <td>user_engagement</td>\n",
       "      <td>3</td>\n",
       "      <td>1cffd052-4616-4d29-bfd5-950e23b763d4</td>\n",
       "      <td>0.0</td>\n",
       "      <td>2023-10-28</td>\n",
       "      <td>ue</td>\n",
       "      <td>0</td>\n",
       "      <td>1.6.0</td>\n",
       "    </tr>\n",
       "    <tr>\n",
       "      <th>4</th>\n",
       "      <td>166</td>\n",
       "      <td>2023-10-28</td>\n",
       "      <td>user_engagement</td>\n",
       "      <td>4</td>\n",
       "      <td>1cffd052-4616-4d29-bfd5-950e23b763d4</td>\n",
       "      <td>0.0</td>\n",
       "      <td>2023-10-28</td>\n",
       "      <td>ue</td>\n",
       "      <td>0</td>\n",
       "      <td>1.6.0</td>\n",
       "    </tr>\n",
       "  </tbody>\n",
       "</table>\n",
       "</div>"
      ],
      "text/plain": [
       "   event_id   date_time       event_name  level  \\\n",
       "0       162  2023-10-28  user_engagement      1   \n",
       "1       163  2023-10-28  user_engagement      1   \n",
       "2       164  2023-10-28  user_engagement      2   \n",
       "3       165  2023-10-28  user_engagement      3   \n",
       "4       166  2023-10-28  user_engagement      4   \n",
       "\n",
       "                                   user  day_diff        day0 mode_game  \\\n",
       "0  1cffd052-4616-4d29-bfd5-950e23b763d4       0.0  2023-10-28        ss   \n",
       "1  1cffd052-4616-4d29-bfd5-950e23b763d4       0.0  2023-10-28        ue   \n",
       "2  1cffd052-4616-4d29-bfd5-950e23b763d4       0.0  2023-10-28        ue   \n",
       "3  1cffd052-4616-4d29-bfd5-950e23b763d4       0.0  2023-10-28        ue   \n",
       "4  1cffd052-4616-4d29-bfd5-950e23b763d4       0.0  2023-10-28        ue   \n",
       "\n",
       "   quantity version  \n",
       "0         0   1.6.0  \n",
       "1         0   1.6.0  \n",
       "2         0   1.6.0  \n",
       "3         0   1.6.0  \n",
       "4         0   1.6.0  "
      ]
     },
     "execution_count": 272,
     "metadata": {},
     "output_type": "execute_result"
    }
   ],
   "source": [
    "# load in user_engagement dataset and print out the head \n",
    "user_engagement=pd.read_csv('D:/indiez_assign/data/processed/user_engagement.csv')\n",
    "user_engagement.head()"
   ]
  },
  {
   "cell_type": "code",
   "execution_count": 273,
   "id": "32eb9137b844cbb3",
   "metadata": {
    "ExecuteTime": {
     "end_time": "2024-07-02T17:32:26.229573200Z",
     "start_time": "2024-07-02T17:32:26.226571700Z"
    }
   },
   "outputs": [
    {
     "data": {
      "text/plain": [
       "(196249, 10)"
      ]
     },
     "execution_count": 273,
     "metadata": {},
     "output_type": "execute_result"
    }
   ],
   "source": [
    "# check the rows and columns of user_engagement dataset\n",
    "user_engagement.shape  "
   ]
  },
  {
   "cell_type": "code",
   "execution_count": 274,
   "id": "3c2ddb8b853705e0",
   "metadata": {
    "ExecuteTime": {
     "end_time": "2024-07-02T17:32:26.233000200Z",
     "start_time": "2024-07-02T17:32:26.233000200Z"
    }
   },
   "outputs": [
    {
     "data": {
      "text/plain": [
       "event_id        int64\n",
       "date_time      object\n",
       "event_name     object\n",
       "level           int64\n",
       "user           object\n",
       "day_diff      float64\n",
       "day0           object\n",
       "mode_game      object\n",
       "quantity        int64\n",
       "version        object\n",
       "dtype: object"
      ]
     },
     "execution_count": 274,
     "metadata": {},
     "output_type": "execute_result"
    }
   ],
   "source": [
    "# check datatypes to see if there are some wrongly categorized types in user_engagement dataset\n",
    "user_engagement.dtypes"
   ]
  },
  {
   "cell_type": "code",
   "execution_count": 275,
   "id": "8dc1b8df242e76aa",
   "metadata": {
    "ExecuteTime": {
     "end_time": "2024-07-02T17:32:26.255599200Z",
     "start_time": "2024-07-02T17:32:26.240546Z"
    }
   },
   "outputs": [],
   "source": [
    "# Convert float columns from float to int\n",
    "user_engagement['day_diff'] = user_engagement['day_diff'].astype(int)"
   ]
  },
  {
   "cell_type": "code",
   "execution_count": 276,
   "id": "e9600c6af827549d",
   "metadata": {
    "ExecuteTime": {
     "end_time": "2024-07-02T17:32:26.543258200Z",
     "start_time": "2024-07-02T17:32:26.245053500Z"
    }
   },
   "outputs": [
    {
     "data": {
      "text/plain": [
       "event_id      196249\n",
       "date_time         14\n",
       "event_name         1\n",
       "level            500\n",
       "user           13582\n",
       "day_diff           8\n",
       "day0               7\n",
       "mode_game          2\n",
       "quantity           1\n",
       "version            2\n",
       "dtype: int64"
      ]
     },
     "execution_count": 276,
     "metadata": {},
     "output_type": "execute_result"
    }
   ],
   "source": [
    "# check each columns number of unique values \n",
    "user_engagement.nunique()"
   ]
  },
  {
   "cell_type": "code",
   "execution_count": 277,
   "id": "53bed55b2bbc979e",
   "metadata": {
    "ExecuteTime": {
     "end_time": "2024-07-02T17:32:26.544258100Z",
     "start_time": "2024-07-02T17:32:26.448772Z"
    }
   },
   "outputs": [
    {
     "data": {
      "text/html": [
       "<div>\n",
       "<style scoped>\n",
       "    .dataframe tbody tr th:only-of-type {\n",
       "        vertical-align: middle;\n",
       "    }\n",
       "\n",
       "    .dataframe tbody tr th {\n",
       "        vertical-align: top;\n",
       "    }\n",
       "\n",
       "    .dataframe thead th {\n",
       "        text-align: right;\n",
       "    }\n",
       "</style>\n",
       "<table border=\"1\" class=\"dataframe\">\n",
       "  <thead>\n",
       "    <tr style=\"text-align: right;\">\n",
       "      <th></th>\n",
       "      <th>event_id</th>\n",
       "      <th>level</th>\n",
       "      <th>day_diff</th>\n",
       "      <th>quantity</th>\n",
       "    </tr>\n",
       "  </thead>\n",
       "  <tbody>\n",
       "    <tr>\n",
       "      <th>count</th>\n",
       "      <td>1.962490e+05</td>\n",
       "      <td>196249.000000</td>\n",
       "      <td>196249.000000</td>\n",
       "      <td>196249.0</td>\n",
       "    </tr>\n",
       "    <tr>\n",
       "      <th>mean</th>\n",
       "      <td>2.393093e+06</td>\n",
       "      <td>25.962374</td>\n",
       "      <td>1.262661</td>\n",
       "      <td>0.0</td>\n",
       "    </tr>\n",
       "    <tr>\n",
       "      <th>std</th>\n",
       "      <td>1.411244e+06</td>\n",
       "      <td>46.149887</td>\n",
       "      <td>1.863484</td>\n",
       "      <td>0.0</td>\n",
       "    </tr>\n",
       "    <tr>\n",
       "      <th>min</th>\n",
       "      <td>1.620000e+02</td>\n",
       "      <td>1.000000</td>\n",
       "      <td>0.000000</td>\n",
       "      <td>0.0</td>\n",
       "    </tr>\n",
       "    <tr>\n",
       "      <th>25%</th>\n",
       "      <td>1.189827e+06</td>\n",
       "      <td>4.000000</td>\n",
       "      <td>0.000000</td>\n",
       "      <td>0.0</td>\n",
       "    </tr>\n",
       "    <tr>\n",
       "      <th>50%</th>\n",
       "      <td>2.395089e+06</td>\n",
       "      <td>11.000000</td>\n",
       "      <td>0.000000</td>\n",
       "      <td>0.0</td>\n",
       "    </tr>\n",
       "    <tr>\n",
       "      <th>75%</th>\n",
       "      <td>3.498081e+06</td>\n",
       "      <td>24.000000</td>\n",
       "      <td>2.000000</td>\n",
       "      <td>0.0</td>\n",
       "    </tr>\n",
       "    <tr>\n",
       "      <th>max</th>\n",
       "      <td>7.957952e+06</td>\n",
       "      <td>519.000000</td>\n",
       "      <td>7.000000</td>\n",
       "      <td>0.0</td>\n",
       "    </tr>\n",
       "  </tbody>\n",
       "</table>\n",
       "</div>"
      ],
      "text/plain": [
       "           event_id          level       day_diff  quantity\n",
       "count  1.962490e+05  196249.000000  196249.000000  196249.0\n",
       "mean   2.393093e+06      25.962374       1.262661       0.0\n",
       "std    1.411244e+06      46.149887       1.863484       0.0\n",
       "min    1.620000e+02       1.000000       0.000000       0.0\n",
       "25%    1.189827e+06       4.000000       0.000000       0.0\n",
       "50%    2.395089e+06      11.000000       0.000000       0.0\n",
       "75%    3.498081e+06      24.000000       2.000000       0.0\n",
       "max    7.957952e+06     519.000000       7.000000       0.0"
      ]
     },
     "execution_count": 277,
     "metadata": {},
     "output_type": "execute_result"
    }
   ],
   "source": [
    "# statistic values for user_engagement dataset\n",
    "user_engagement.describe()"
   ]
  },
  {
   "cell_type": "code",
   "execution_count": 278,
   "id": "b4a52fa7372ee111",
   "metadata": {
    "ExecuteTime": {
     "end_time": "2024-07-02T17:32:26.693197200Z",
     "start_time": "2024-07-02T17:32:26.467540300Z"
    }
   },
   "outputs": [
    {
     "name": "stdout",
     "output_type": "stream",
     "text": [
      "<class 'pandas.core.frame.DataFrame'>\n",
      "RangeIndex: 196249 entries, 0 to 196248\n",
      "Data columns (total 10 columns):\n",
      " #   Column      Non-Null Count   Dtype \n",
      "---  ------      --------------   ----- \n",
      " 0   event_id    196249 non-null  int64 \n",
      " 1   date_time   196249 non-null  object\n",
      " 2   event_name  196249 non-null  object\n",
      " 3   level       196249 non-null  int64 \n",
      " 4   user        196249 non-null  object\n",
      " 5   day_diff    196249 non-null  int32 \n",
      " 6   day0        196249 non-null  object\n",
      " 7   mode_game   196249 non-null  object\n",
      " 8   quantity    196249 non-null  int64 \n",
      " 9   version     196249 non-null  object\n",
      "dtypes: int32(1), int64(3), object(6)\n",
      "memory usage: 14.2+ MB\n"
     ]
    }
   ],
   "source": [
    "user_engagement.info()"
   ]
  },
  {
   "cell_type": "code",
   "execution_count": 279,
   "id": "bd50ffb9e2434ba5",
   "metadata": {
    "ExecuteTime": {
     "end_time": "2024-07-02T17:32:26.809357200Z",
     "start_time": "2024-07-02T17:32:26.529743100Z"
    }
   },
   "outputs": [
    {
     "data": {
      "text/plain": [
       "event_id      0\n",
       "date_time     0\n",
       "event_name    0\n",
       "level         0\n",
       "user          0\n",
       "day_diff      0\n",
       "day0          0\n",
       "mode_game     0\n",
       "quantity      0\n",
       "version       0\n",
       "dtype: int64"
      ]
     },
     "execution_count": 279,
     "metadata": {},
     "output_type": "execute_result"
    }
   ],
   "source": [
    "user_engagement.isnull().sum()"
   ]
  },
  {
   "cell_type": "code",
   "execution_count": 280,
   "id": "eca00094e4c72858",
   "metadata": {
    "ExecuteTime": {
     "end_time": "2024-07-02T17:32:26.943183800Z",
     "start_time": "2024-07-02T17:32:26.601781800Z"
    }
   },
   "outputs": [
    {
     "data": {
      "text/plain": [
       "0"
      ]
     },
     "execution_count": 280,
     "metadata": {},
     "output_type": "execute_result"
    }
   ],
   "source": [
    "# check if there are some duplicates in user_engagement dataset\n",
    "user_engagement.duplicated().sum()"
   ]
  },
  {
   "cell_type": "code",
   "execution_count": 281,
   "id": "382adcb41e92906a",
   "metadata": {
    "ExecuteTime": {
     "end_time": "2024-07-02T17:32:27.168621100Z",
     "start_time": "2024-07-02T17:32:26.820180800Z"
    }
   },
   "outputs": [
    {
     "data": {
      "text/plain": [
       "0"
      ]
     },
     "execution_count": 281,
     "metadata": {},
     "output_type": "execute_result"
    }
   ],
   "source": [
    "# drop the duplicates\n",
    "user_engagement.drop_duplicates(inplace=True) \n",
    "# confirm again \n",
    "user_engagement.duplicated().sum()"
   ]
  },
  {
   "cell_type": "code",
   "execution_count": 282,
   "id": "327229f3850be439",
   "metadata": {
    "ExecuteTime": {
     "end_time": "2024-07-02T17:32:28.545614500Z",
     "start_time": "2024-07-02T17:32:27.124842200Z"
    }
   },
   "outputs": [
    {
     "data": {
      "image/png": "[encoded data removed]",
      "text/plain": [
       "<Figure size 2000x1000 with 4 Axes>"
      ]
     },
     "metadata": {},
     "output_type": "display_data"
    }
   ],
   "source": [
    "# visualize each variables \n",
    "user_engagement.hist(figsize=(20,10));"
   ]
  },
  {
   "cell_type": "markdown",
   "id": "2cbbf5b238296926",
   "metadata": {},
   "source": [
    "**EXPLORATION WITH VISUALS AND CONCLUSIONS**\n"
   ]
  },
  {
   "cell_type": "markdown",
   "id": "59824eb478d32b4b",
   "metadata": {},
   "source": [
    "**1. How can we know if the improvement of Tutorial in-game version 1.6.0 has impacted the User Experience better than in-game\n",
    "version 1.5.2?**\n"
   ]
  },
  {
   "cell_type": "markdown",
   "id": "8d394d39e78abb3c",
   "metadata": {},
   "source": [
    "*To see if improving the Tutorial affects user experience, we need to:*\n",
    "*1.  Consider how long it takes players to pass level 1 after Tutorial step.*\n",
    "*2.  Compare Tutorial completion rates between the two versions*\n",
    "*3.  Check if Tutorial is difficult and take too much time to complete*"
   ]
  },
  {
   "cell_type": "markdown",
   "id": "b1506221cd807ab3",
   "metadata": {},
   "source": [
    "**2. Can we roll out 100% game version 1.6.0 to all users or not? Why?**\n",
    "Now, I will try with the above 3 ideas.\n"
   ]
  },
  {
   "cell_type": "markdown",
   "id": "cd503f5d2b655f12",
   "metadata": {},
   "source": [
    "***2.1  Consider how long it takes players to pass level 1 after Tutorial step.***"
   ]
  },
  {
   "cell_type": "code",
   "execution_count": 283,
   "id": "a0a51c8a3a821aa8",
   "metadata": {
    "ExecuteTime": {
     "start_time": "2024-07-02T17:32:28.545614500Z"
    }
   },
   "outputs": [
    {
     "data": {
      "text/html": [
       "<div>\n",
       "<style scoped>\n",
       "    .dataframe tbody tr th:only-of-type {\n",
       "        vertical-align: middle;\n",
       "    }\n",
       "\n",
       "    .dataframe tbody tr th {\n",
       "        vertical-align: top;\n",
       "    }\n",
       "\n",
       "    .dataframe thead th {\n",
       "        text-align: right;\n",
       "    }\n",
       "</style>\n",
       "<table border=\"1\" class=\"dataframe\">\n",
       "  <thead>\n",
       "    <tr style=\"text-align: right;\">\n",
       "      <th></th>\n",
       "      <th>user</th>\n",
       "    </tr>\n",
       "  </thead>\n",
       "  <tbody>\n",
       "    <tr>\n",
       "      <th>0</th>\n",
       "      <td>e183eeec-de1c-4bcb-a27a-01e69062f12e</td>\n",
       "    </tr>\n",
       "    <tr>\n",
       "      <th>1</th>\n",
       "      <td>c8b50eeb-d799-4986-9f9b-32c4c2ada920</td>\n",
       "    </tr>\n",
       "    <tr>\n",
       "      <th>2</th>\n",
       "      <td>3e8d1d60-13d4-4cd8-8ee4-bb454dc46c87</td>\n",
       "    </tr>\n",
       "    <tr>\n",
       "      <th>3</th>\n",
       "      <td>a0ef654f-dded-4d4a-a856-0642ab621cc7</td>\n",
       "    </tr>\n",
       "    <tr>\n",
       "      <th>4</th>\n",
       "      <td>803dad1b-dd48-47a4-a039-61e5e237cdb2</td>\n",
       "    </tr>\n",
       "    <tr>\n",
       "      <th>...</th>\n",
       "      <td>...</td>\n",
       "    </tr>\n",
       "    <tr>\n",
       "      <th>6621</th>\n",
       "      <td>d8147156-3279-45f1-a5bd-6e76d9b65345</td>\n",
       "    </tr>\n",
       "    <tr>\n",
       "      <th>6622</th>\n",
       "      <td>c34953ed-5a20-4bd8-a28e-75dacef88892</td>\n",
       "    </tr>\n",
       "    <tr>\n",
       "      <th>6623</th>\n",
       "      <td>8752b114-c862-4eaf-8195-c33b24fac565</td>\n",
       "    </tr>\n",
       "    <tr>\n",
       "      <th>6624</th>\n",
       "      <td>6da32e35-7a19-40d2-9d26-2fad33fa352b</td>\n",
       "    </tr>\n",
       "    <tr>\n",
       "      <th>6625</th>\n",
       "      <td>db260505-f399-466f-b842-022fe4508e24</td>\n",
       "    </tr>\n",
       "  </tbody>\n",
       "</table>\n",
       "<p>6626 rows × 1 columns</p>\n",
       "</div>"
      ],
      "text/plain": [
       "                                      user\n",
       "0     e183eeec-de1c-4bcb-a27a-01e69062f12e\n",
       "1     c8b50eeb-d799-4986-9f9b-32c4c2ada920\n",
       "2     3e8d1d60-13d4-4cd8-8ee4-bb454dc46c87\n",
       "3     a0ef654f-dded-4d4a-a856-0642ab621cc7\n",
       "4     803dad1b-dd48-47a4-a039-61e5e237cdb2\n",
       "...                                    ...\n",
       "6621  d8147156-3279-45f1-a5bd-6e76d9b65345\n",
       "6622  c34953ed-5a20-4bd8-a28e-75dacef88892\n",
       "6623  8752b114-c862-4eaf-8195-c33b24fac565\n",
       "6624  6da32e35-7a19-40d2-9d26-2fad33fa352b\n",
       "6625  db260505-f399-466f-b842-022fe4508e24\n",
       "\n",
       "[6626 rows x 1 columns]"
      ]
     },
     "execution_count": 283,
     "metadata": {},
     "output_type": "execute_result"
    }
   ],
   "source": [
    "# Filter the DataFrame for rows where the version is '1.5.2'\n",
    "tutorial_1_5 = tutorial[tutorial['version'] == '1.5.2']\n",
    "# Extract the 'user' column and drop duplicates, converting to a DataFrame\n",
    "tutorial_1_5_users = tutorial_1_5[['user']].drop_duplicates().reset_index(drop=True)\n",
    "tutorial_1_5_users"
   ]
  },
  {
   "cell_type": "code",
   "execution_count": 284,
   "id": "65bc97daf6c1a23a",
   "metadata": {
    "ExecuteTime": {
     "end_time": "2024-07-02T17:32:28.757403300Z",
     "start_time": "2024-07-02T17:32:28.572684700Z"
    }
   },
   "outputs": [
    {
     "data": {
      "text/html": [
       "<div>\n",
       "<style scoped>\n",
       "    .dataframe tbody tr th:only-of-type {\n",
       "        vertical-align: middle;\n",
       "    }\n",
       "\n",
       "    .dataframe tbody tr th {\n",
       "        vertical-align: top;\n",
       "    }\n",
       "\n",
       "    .dataframe thead th {\n",
       "        text-align: right;\n",
       "    }\n",
       "</style>\n",
       "<table border=\"1\" class=\"dataframe\">\n",
       "  <thead>\n",
       "    <tr style=\"text-align: right;\">\n",
       "      <th></th>\n",
       "      <th>user</th>\n",
       "      <th>day_diff</th>\n",
       "    </tr>\n",
       "  </thead>\n",
       "  <tbody>\n",
       "    <tr>\n",
       "      <th>8</th>\n",
       "      <td>e183eeec-de1c-4bcb-a27a-01e69062f12e</td>\n",
       "      <td>0</td>\n",
       "    </tr>\n",
       "    <tr>\n",
       "      <th>24</th>\n",
       "      <td>c8b50eeb-d799-4986-9f9b-32c4c2ada920</td>\n",
       "      <td>0</td>\n",
       "    </tr>\n",
       "    <tr>\n",
       "      <th>31</th>\n",
       "      <td>3e8d1d60-13d4-4cd8-8ee4-bb454dc46c87</td>\n",
       "      <td>0</td>\n",
       "    </tr>\n",
       "    <tr>\n",
       "      <th>37</th>\n",
       "      <td>a0ef654f-dded-4d4a-a856-0642ab621cc7</td>\n",
       "      <td>0</td>\n",
       "    </tr>\n",
       "    <tr>\n",
       "      <th>78</th>\n",
       "      <td>803dad1b-dd48-47a4-a039-61e5e237cdb2</td>\n",
       "      <td>0</td>\n",
       "    </tr>\n",
       "    <tr>\n",
       "      <th>...</th>\n",
       "      <td>...</td>\n",
       "      <td>...</td>\n",
       "    </tr>\n",
       "    <tr>\n",
       "      <th>243094</th>\n",
       "      <td>e84f51ae-a9f2-4298-8e14-3805f250552c</td>\n",
       "      <td>0</td>\n",
       "    </tr>\n",
       "    <tr>\n",
       "      <th>243125</th>\n",
       "      <td>3ea69a27-3b84-4dc5-8351-ab948eec4ea3</td>\n",
       "      <td>0</td>\n",
       "    </tr>\n",
       "    <tr>\n",
       "      <th>243614</th>\n",
       "      <td>5da08b50-bbac-4cf6-952d-54870fe452e6</td>\n",
       "      <td>7</td>\n",
       "    </tr>\n",
       "    <tr>\n",
       "      <th>243625</th>\n",
       "      <td>5b847d95-76dd-4238-9c05-cc5a59ef9efe</td>\n",
       "      <td>5</td>\n",
       "    </tr>\n",
       "    <tr>\n",
       "      <th>243682</th>\n",
       "      <td>831a361d-2831-456c-8a2a-36708292ff37</td>\n",
       "      <td>7</td>\n",
       "    </tr>\n",
       "  </tbody>\n",
       "</table>\n",
       "<p>6322 rows × 2 columns</p>\n",
       "</div>"
      ],
      "text/plain": [
       "                                        user  day_diff\n",
       "8       e183eeec-de1c-4bcb-a27a-01e69062f12e         0\n",
       "24      c8b50eeb-d799-4986-9f9b-32c4c2ada920         0\n",
       "31      3e8d1d60-13d4-4cd8-8ee4-bb454dc46c87         0\n",
       "37      a0ef654f-dded-4d4a-a856-0642ab621cc7         0\n",
       "78      803dad1b-dd48-47a4-a039-61e5e237cdb2         0\n",
       "...                                      ...       ...\n",
       "243094  e84f51ae-a9f2-4298-8e14-3805f250552c         0\n",
       "243125  3ea69a27-3b84-4dc5-8351-ab948eec4ea3         0\n",
       "243614  5da08b50-bbac-4cf6-952d-54870fe452e6         7\n",
       "243625  5b847d95-76dd-4238-9c05-cc5a59ef9efe         5\n",
       "243682  831a361d-2831-456c-8a2a-36708292ff37         7\n",
       "\n",
       "[6322 rows x 2 columns]"
      ]
     },
     "execution_count": 284,
     "metadata": {},
     "output_type": "execute_result"
    }
   ],
   "source": [
    "# Filter the DataFrame for rows where the version is '1.5.2'\n",
    "game_end_1_5 = game_end[(game_end['version'] == '1.5.2') & (game_end['level'] == 1) & (game_end['win'] == 1)]\n",
    "##Select the necessary columns\n",
    "game_end_1_5_users = game_end_1_5.loc[:, ['user', 'day_diff']]\n",
    "game_end_1_5_users.drop_duplicates(inplace=True)\n",
    "game_end_1_5_users"
   ]
  },
  {
   "cell_type": "code",
   "execution_count": 285,
   "id": "8f671f97d18ad18e",
   "metadata": {
    "ExecuteTime": {
     "end_time": "2024-07-02T17:32:28.758416800Z",
     "start_time": "2024-07-02T17:32:28.608990300Z"
    }
   },
   "outputs": [],
   "source": [
    "# Convert float columns from float to int\n",
    "game_end_1_5_users['day_diff'] = game_end_1_5_users['day_diff'].astype(str)"
   ]
  },
  {
   "cell_type": "code",
   "execution_count": 286,
   "id": "d78ebb4fa5476f9e",
   "metadata": {
    "ExecuteTime": {
     "end_time": "2024-07-02T17:32:28.758416800Z",
     "start_time": "2024-07-02T17:32:28.617492300Z"
    }
   },
   "outputs": [
    {
     "data": {
      "text/html": [
       "<div>\n",
       "<style scoped>\n",
       "    .dataframe tbody tr th:only-of-type {\n",
       "        vertical-align: middle;\n",
       "    }\n",
       "\n",
       "    .dataframe tbody tr th {\n",
       "        vertical-align: top;\n",
       "    }\n",
       "\n",
       "    .dataframe thead th {\n",
       "        text-align: right;\n",
       "    }\n",
       "</style>\n",
       "<table border=\"1\" class=\"dataframe\">\n",
       "  <thead>\n",
       "    <tr style=\"text-align: right;\">\n",
       "      <th></th>\n",
       "      <th>user</th>\n",
       "      <th>day_diff</th>\n",
       "    </tr>\n",
       "  </thead>\n",
       "  <tbody>\n",
       "    <tr>\n",
       "      <th>0</th>\n",
       "      <td>e183eeec-de1c-4bcb-a27a-01e69062f12e</td>\n",
       "      <td>0</td>\n",
       "    </tr>\n",
       "    <tr>\n",
       "      <th>1</th>\n",
       "      <td>c8b50eeb-d799-4986-9f9b-32c4c2ada920</td>\n",
       "      <td>0</td>\n",
       "    </tr>\n",
       "    <tr>\n",
       "      <th>2</th>\n",
       "      <td>3e8d1d60-13d4-4cd8-8ee4-bb454dc46c87</td>\n",
       "      <td>0</td>\n",
       "    </tr>\n",
       "    <tr>\n",
       "      <th>3</th>\n",
       "      <td>a0ef654f-dded-4d4a-a856-0642ab621cc7</td>\n",
       "      <td>0</td>\n",
       "    </tr>\n",
       "    <tr>\n",
       "      <th>4</th>\n",
       "      <td>803dad1b-dd48-47a4-a039-61e5e237cdb2</td>\n",
       "      <td>0</td>\n",
       "    </tr>\n",
       "    <tr>\n",
       "      <th>...</th>\n",
       "      <td>...</td>\n",
       "      <td>...</td>\n",
       "    </tr>\n",
       "    <tr>\n",
       "      <th>6621</th>\n",
       "      <td>d8147156-3279-45f1-a5bd-6e76d9b65345</td>\n",
       "      <td>NaN</td>\n",
       "    </tr>\n",
       "    <tr>\n",
       "      <th>6622</th>\n",
       "      <td>c34953ed-5a20-4bd8-a28e-75dacef88892</td>\n",
       "      <td>NaN</td>\n",
       "    </tr>\n",
       "    <tr>\n",
       "      <th>6623</th>\n",
       "      <td>8752b114-c862-4eaf-8195-c33b24fac565</td>\n",
       "      <td>NaN</td>\n",
       "    </tr>\n",
       "    <tr>\n",
       "      <th>6624</th>\n",
       "      <td>6da32e35-7a19-40d2-9d26-2fad33fa352b</td>\n",
       "      <td>NaN</td>\n",
       "    </tr>\n",
       "    <tr>\n",
       "      <th>6625</th>\n",
       "      <td>db260505-f399-466f-b842-022fe4508e24</td>\n",
       "      <td>NaN</td>\n",
       "    </tr>\n",
       "  </tbody>\n",
       "</table>\n",
       "<p>6626 rows × 2 columns</p>\n",
       "</div>"
      ],
      "text/plain": [
       "                                      user day_diff\n",
       "0     e183eeec-de1c-4bcb-a27a-01e69062f12e        0\n",
       "1     c8b50eeb-d799-4986-9f9b-32c4c2ada920        0\n",
       "2     3e8d1d60-13d4-4cd8-8ee4-bb454dc46c87        0\n",
       "3     a0ef654f-dded-4d4a-a856-0642ab621cc7        0\n",
       "4     803dad1b-dd48-47a4-a039-61e5e237cdb2        0\n",
       "...                                    ...      ...\n",
       "6621  d8147156-3279-45f1-a5bd-6e76d9b65345      NaN\n",
       "6622  c34953ed-5a20-4bd8-a28e-75dacef88892      NaN\n",
       "6623  8752b114-c862-4eaf-8195-c33b24fac565      NaN\n",
       "6624  6da32e35-7a19-40d2-9d26-2fad33fa352b      NaN\n",
       "6625  db260505-f399-466f-b842-022fe4508e24      NaN\n",
       "\n",
       "[6626 rows x 2 columns]"
      ]
     },
     "execution_count": 286,
     "metadata": {},
     "output_type": "execute_result"
    }
   ],
   "source": [
    "tut_joined_end_1_5 = tutorial_1_5_users.merge(game_end_1_5_users, on='user', how='left')\n",
    "tut_joined_end_1_5"
   ]
  },
  {
   "cell_type": "code",
   "execution_count": 287,
   "id": "1bcce2b7fe61210e",
   "metadata": {
    "ExecuteTime": {
     "end_time": "2024-07-02T17:32:28.759417100Z",
     "start_time": "2024-07-02T17:32:28.641054Z"
    }
   },
   "outputs": [
    {
     "data": {
      "text/plain": [
       "user        object\n",
       "day_diff    object\n",
       "dtype: object"
      ]
     },
     "execution_count": 287,
     "metadata": {},
     "output_type": "execute_result"
    }
   ],
   "source": [
    "tut_joined_end_1_5.dtypes"
   ]
  },
  {
   "cell_type": "code",
   "execution_count": 288,
   "id": "aeccd36543f1288",
   "metadata": {
    "ExecuteTime": {
     "end_time": "2024-07-02T17:32:28.759417100Z",
     "start_time": "2024-07-02T17:32:28.649170800Z"
    }
   },
   "outputs": [
    {
     "data": {
      "text/plain": [
       "user          0\n",
       "day_diff    305\n",
       "dtype: int64"
      ]
     },
     "execution_count": 288,
     "metadata": {},
     "output_type": "execute_result"
    }
   ],
   "source": [
    "tut_joined_end_1_5.isnull().sum()"
   ]
  },
  {
   "cell_type": "code",
   "execution_count": 289,
   "id": "8a1ca954667e27f",
   "metadata": {
    "ExecuteTime": {
     "end_time": "2024-07-02T17:32:28.759417100Z",
     "start_time": "2024-07-02T17:32:28.660816400Z"
    }
   },
   "outputs": [
    {
     "data": {
      "text/html": [
       "<div>\n",
       "<style scoped>\n",
       "    .dataframe tbody tr th:only-of-type {\n",
       "        vertical-align: middle;\n",
       "    }\n",
       "\n",
       "    .dataframe tbody tr th {\n",
       "        vertical-align: top;\n",
       "    }\n",
       "\n",
       "    .dataframe thead th {\n",
       "        text-align: right;\n",
       "    }\n",
       "</style>\n",
       "<table border=\"1\" class=\"dataframe\">\n",
       "  <thead>\n",
       "    <tr style=\"text-align: right;\">\n",
       "      <th></th>\n",
       "      <th>user</th>\n",
       "      <th>day_diff</th>\n",
       "    </tr>\n",
       "  </thead>\n",
       "  <tbody>\n",
       "    <tr>\n",
       "      <th>0</th>\n",
       "      <td>e183eeec-de1c-4bcb-a27a-01e69062f12e</td>\n",
       "      <td>0</td>\n",
       "    </tr>\n",
       "    <tr>\n",
       "      <th>1</th>\n",
       "      <td>c8b50eeb-d799-4986-9f9b-32c4c2ada920</td>\n",
       "      <td>0</td>\n",
       "    </tr>\n",
       "    <tr>\n",
       "      <th>2</th>\n",
       "      <td>3e8d1d60-13d4-4cd8-8ee4-bb454dc46c87</td>\n",
       "      <td>0</td>\n",
       "    </tr>\n",
       "    <tr>\n",
       "      <th>3</th>\n",
       "      <td>a0ef654f-dded-4d4a-a856-0642ab621cc7</td>\n",
       "      <td>0</td>\n",
       "    </tr>\n",
       "    <tr>\n",
       "      <th>4</th>\n",
       "      <td>803dad1b-dd48-47a4-a039-61e5e237cdb2</td>\n",
       "      <td>0</td>\n",
       "    </tr>\n",
       "    <tr>\n",
       "      <th>...</th>\n",
       "      <td>...</td>\n",
       "      <td>...</td>\n",
       "    </tr>\n",
       "    <tr>\n",
       "      <th>6621</th>\n",
       "      <td>d8147156-3279-45f1-a5bd-6e76d9b65345</td>\n",
       "      <td>NaN</td>\n",
       "    </tr>\n",
       "    <tr>\n",
       "      <th>6622</th>\n",
       "      <td>c34953ed-5a20-4bd8-a28e-75dacef88892</td>\n",
       "      <td>NaN</td>\n",
       "    </tr>\n",
       "    <tr>\n",
       "      <th>6623</th>\n",
       "      <td>8752b114-c862-4eaf-8195-c33b24fac565</td>\n",
       "      <td>NaN</td>\n",
       "    </tr>\n",
       "    <tr>\n",
       "      <th>6624</th>\n",
       "      <td>6da32e35-7a19-40d2-9d26-2fad33fa352b</td>\n",
       "      <td>NaN</td>\n",
       "    </tr>\n",
       "    <tr>\n",
       "      <th>6625</th>\n",
       "      <td>db260505-f399-466f-b842-022fe4508e24</td>\n",
       "      <td>NaN</td>\n",
       "    </tr>\n",
       "  </tbody>\n",
       "</table>\n",
       "<p>6626 rows × 2 columns</p>\n",
       "</div>"
      ],
      "text/plain": [
       "                                      user day_diff\n",
       "0     e183eeec-de1c-4bcb-a27a-01e69062f12e        0\n",
       "1     c8b50eeb-d799-4986-9f9b-32c4c2ada920        0\n",
       "2     3e8d1d60-13d4-4cd8-8ee4-bb454dc46c87        0\n",
       "3     a0ef654f-dded-4d4a-a856-0642ab621cc7        0\n",
       "4     803dad1b-dd48-47a4-a039-61e5e237cdb2        0\n",
       "...                                    ...      ...\n",
       "6621  d8147156-3279-45f1-a5bd-6e76d9b65345      NaN\n",
       "6622  c34953ed-5a20-4bd8-a28e-75dacef88892      NaN\n",
       "6623  8752b114-c862-4eaf-8195-c33b24fac565      NaN\n",
       "6624  6da32e35-7a19-40d2-9d26-2fad33fa352b      NaN\n",
       "6625  db260505-f399-466f-b842-022fe4508e24      NaN\n",
       "\n",
       "[6626 rows x 2 columns]"
      ]
     },
     "execution_count": 289,
     "metadata": {},
     "output_type": "execute_result"
    }
   ],
   "source": [
    "tut_joined_end_1_5"
   ]
  },
  {
   "cell_type": "code",
   "execution_count": 290,
   "id": "4303b5b98bf3e5c0",
   "metadata": {
    "ExecuteTime": {
     "end_time": "2024-07-02T17:32:28.760417600Z",
     "start_time": "2024-07-02T17:32:28.672972100Z"
    }
   },
   "outputs": [],
   "source": [
    "# For all null data with object as datatype in day_diff column, I fill in with string \"-1\". All user has value \"-1\" are user drop game in tutorial process\n",
    "tut_joined_end_1_5.day_diff.fillna('-1', inplace=True)"
   ]
  },
  {
   "cell_type": "code",
   "execution_count": 291,
   "id": "2a72d41c5684c3b2",
   "metadata": {
    "ExecuteTime": {
     "end_time": "2024-07-02T17:32:28.760417600Z",
     "start_time": "2024-07-02T17:32:28.679810Z"
    }
   },
   "outputs": [
    {
     "data": {
      "text/plain": [
       "user        0\n",
       "day_diff    0\n",
       "dtype: int64"
      ]
     },
     "execution_count": 291,
     "metadata": {},
     "output_type": "execute_result"
    }
   ],
   "source": [
    "tut_joined_end_1_5.isnull().sum()"
   ]
  },
  {
   "cell_type": "code",
   "execution_count": 308,
   "id": "38e48c1df9b06a4c",
   "metadata": {
    "ExecuteTime": {
     "end_time": "2024-07-02T17:35:24.004720500Z",
     "start_time": "2024-07-02T17:35:23.982520500Z"
    }
   },
   "outputs": [],
   "source": [
    "# Convert float columns from float to int\n",
    "tut_joined_end_1_5['day_diff'] = tut_joined_end_1_5['day_diff'].astype(int)"
   ]
  },
  {
   "cell_type": "code",
   "execution_count": 309,
   "id": "9e2baffb53d52449",
   "metadata": {
    "ExecuteTime": {
     "end_time": "2024-07-02T17:35:37.033476900Z",
     "start_time": "2024-07-02T17:35:36.967047900Z"
    }
   },
   "outputs": [],
   "source": [
    "# Group by 'day_diff' and count the number of users\n",
    "day_diff_counts_1_5 = tut_joined_end_1_5['day_diff'].value_counts(normalize=True).sort_index() * 100\n"
   ]
  },
  {
   "cell_type": "code",
   "execution_count": 310,
   "id": "cc09247ac604a52b",
   "metadata": {
    "ExecuteTime": {
     "end_time": "2024-07-02T17:35:38.641839800Z",
     "start_time": "2024-07-02T17:35:38.456089800Z"
    }
   },
   "outputs": [
    {
     "data": {
      "image/png": "[encoded data removed]",
      "text/plain": [
       "<Figure size 1000x600 with 1 Axes>"
      ]
     },
     "metadata": {},
     "output_type": "display_data"
    }
   ],
   "source": [
    "# Plot the distribution\n",
    "plt.figure(figsize=(10, 6))\n",
    "day_diff_counts_1_5.plot(kind='bar')\n",
    "plt.xlabel('Day Difference')\n",
    "plt.ylabel('Count of Users')\n",
    "plt.title('Distribution of Users completed level 1 by Day Difference in 1.5.2 version')\n",
    "plt.xticks(rotation=0)\n",
    "plt.grid(axis='y')\n",
    "plt.show()"
   ]
  },
  {
   "cell_type": "code",
   "execution_count": 294,
   "id": "703f5a35b2a14dd3",
   "metadata": {
    "ExecuteTime": {
     "end_time": "2024-07-02T17:32:29.120668900Z",
     "start_time": "2024-07-02T17:32:28.959174600Z"
    }
   },
   "outputs": [],
   "source": []
  },
  {
   "cell_type": "code",
   "execution_count": 295,
   "id": "63af23eaffacc31e",
   "metadata": {
    "ExecuteTime": {
     "end_time": "2024-07-02T17:32:29.200685600Z",
     "start_time": "2024-07-02T17:32:28.963241Z"
    }
   },
   "outputs": [
    {
     "data": {
      "text/html": [
       "<div>\n",
       "<style scoped>\n",
       "    .dataframe tbody tr th:only-of-type {\n",
       "        vertical-align: middle;\n",
       "    }\n",
       "\n",
       "    .dataframe tbody tr th {\n",
       "        vertical-align: top;\n",
       "    }\n",
       "\n",
       "    .dataframe thead th {\n",
       "        text-align: right;\n",
       "    }\n",
       "</style>\n",
       "<table border=\"1\" class=\"dataframe\">\n",
       "  <thead>\n",
       "    <tr style=\"text-align: right;\">\n",
       "      <th></th>\n",
       "      <th>user</th>\n",
       "    </tr>\n",
       "  </thead>\n",
       "  <tbody>\n",
       "    <tr>\n",
       "      <th>0</th>\n",
       "      <td>1cffd052-4616-4d29-bfd5-950e23b763d4</td>\n",
       "    </tr>\n",
       "    <tr>\n",
       "      <th>1</th>\n",
       "      <td>a88b3e4e-46f7-4ef9-8e3d-1a5e46560e10</td>\n",
       "    </tr>\n",
       "    <tr>\n",
       "      <th>2</th>\n",
       "      <td>d0fb774c-1964-44b3-8987-c1c4002fdc7c</td>\n",
       "    </tr>\n",
       "    <tr>\n",
       "      <th>3</th>\n",
       "      <td>9522fccc-f8f7-4b34-aff5-ef9ad19a0ab0</td>\n",
       "    </tr>\n",
       "    <tr>\n",
       "      <th>4</th>\n",
       "      <td>7d8e12e8-fde0-4549-bc96-8dd5c7359b15</td>\n",
       "    </tr>\n",
       "    <tr>\n",
       "      <th>...</th>\n",
       "      <td>...</td>\n",
       "    </tr>\n",
       "    <tr>\n",
       "      <th>6850</th>\n",
       "      <td>b33f3ecf-9bfb-49fd-b44c-fd35c0b9e8cc</td>\n",
       "    </tr>\n",
       "    <tr>\n",
       "      <th>6851</th>\n",
       "      <td>886a4318-c999-4af3-b3a0-6d44df16c829</td>\n",
       "    </tr>\n",
       "    <tr>\n",
       "      <th>6852</th>\n",
       "      <td>c1018ab32e53fb33f36c404c5a651a85</td>\n",
       "    </tr>\n",
       "    <tr>\n",
       "      <th>6853</th>\n",
       "      <td>a3b261f2-34ee-46f0-9144-7e39481fa549</td>\n",
       "    </tr>\n",
       "    <tr>\n",
       "      <th>6854</th>\n",
       "      <td>08445202-31bb-405d-b9f7-511d83679ad5</td>\n",
       "    </tr>\n",
       "  </tbody>\n",
       "</table>\n",
       "<p>6855 rows × 1 columns</p>\n",
       "</div>"
      ],
      "text/plain": [
       "                                      user\n",
       "0     1cffd052-4616-4d29-bfd5-950e23b763d4\n",
       "1     a88b3e4e-46f7-4ef9-8e3d-1a5e46560e10\n",
       "2     d0fb774c-1964-44b3-8987-c1c4002fdc7c\n",
       "3     9522fccc-f8f7-4b34-aff5-ef9ad19a0ab0\n",
       "4     7d8e12e8-fde0-4549-bc96-8dd5c7359b15\n",
       "...                                    ...\n",
       "6850  b33f3ecf-9bfb-49fd-b44c-fd35c0b9e8cc\n",
       "6851  886a4318-c999-4af3-b3a0-6d44df16c829\n",
       "6852      c1018ab32e53fb33f36c404c5a651a85\n",
       "6853  a3b261f2-34ee-46f0-9144-7e39481fa549\n",
       "6854  08445202-31bb-405d-b9f7-511d83679ad5\n",
       "\n",
       "[6855 rows x 1 columns]"
      ]
     },
     "execution_count": 295,
     "metadata": {},
     "output_type": "execute_result"
    }
   ],
   "source": [
    "# Filter the DataFrame for rows where the version is '1.6.0'\n",
    "tutorial_1_6 = tutorial[tutorial['version'] == '1.6.0']\n",
    "# Extract the 'user' column and drop duplicates, converting to a DataFrame\n",
    "tutorial_1_6_users = tutorial_1_6[['user']].drop_duplicates().reset_index(drop=True)\n",
    "tutorial_1_6_users"
   ]
  },
  {
   "cell_type": "code",
   "execution_count": 296,
   "id": "5de88d9d8f41fe4d",
   "metadata": {
    "ExecuteTime": {
     "end_time": "2024-07-02T17:32:29.295512900Z",
     "start_time": "2024-07-02T17:32:29.009634900Z"
    }
   },
   "outputs": [
    {
     "data": {
      "text/html": [
       "<div>\n",
       "<style scoped>\n",
       "    .dataframe tbody tr th:only-of-type {\n",
       "        vertical-align: middle;\n",
       "    }\n",
       "\n",
       "    .dataframe tbody tr th {\n",
       "        vertical-align: top;\n",
       "    }\n",
       "\n",
       "    .dataframe thead th {\n",
       "        text-align: right;\n",
       "    }\n",
       "</style>\n",
       "<table border=\"1\" class=\"dataframe\">\n",
       "  <thead>\n",
       "    <tr style=\"text-align: right;\">\n",
       "      <th></th>\n",
       "      <th>user</th>\n",
       "      <th>day_diff</th>\n",
       "    </tr>\n",
       "  </thead>\n",
       "  <tbody>\n",
       "    <tr>\n",
       "      <th>1</th>\n",
       "      <td>1cffd052-4616-4d29-bfd5-950e23b763d4</td>\n",
       "      <td>0</td>\n",
       "    </tr>\n",
       "    <tr>\n",
       "      <th>21</th>\n",
       "      <td>a88b3e4e-46f7-4ef9-8e3d-1a5e46560e10</td>\n",
       "      <td>0</td>\n",
       "    </tr>\n",
       "    <tr>\n",
       "      <th>23</th>\n",
       "      <td>d0fb774c-1964-44b3-8987-c1c4002fdc7c</td>\n",
       "      <td>0</td>\n",
       "    </tr>\n",
       "    <tr>\n",
       "      <th>62</th>\n",
       "      <td>9522fccc-f8f7-4b34-aff5-ef9ad19a0ab0</td>\n",
       "      <td>0</td>\n",
       "    </tr>\n",
       "    <tr>\n",
       "      <th>73</th>\n",
       "      <td>7d8e12e8-fde0-4549-bc96-8dd5c7359b15</td>\n",
       "      <td>0</td>\n",
       "    </tr>\n",
       "    <tr>\n",
       "      <th>...</th>\n",
       "      <td>...</td>\n",
       "      <td>...</td>\n",
       "    </tr>\n",
       "    <tr>\n",
       "      <th>243257</th>\n",
       "      <td>8a8146b9-2fe5-49f2-b52f-d6068a9c2ff2</td>\n",
       "      <td>6</td>\n",
       "    </tr>\n",
       "    <tr>\n",
       "      <th>243428</th>\n",
       "      <td>ba98c38e-9426-4f0e-a126-3db4afdc8ad4</td>\n",
       "      <td>0</td>\n",
       "    </tr>\n",
       "    <tr>\n",
       "      <th>243506</th>\n",
       "      <td>3e92e5e1-8539-4517-b752-65c27dd52046</td>\n",
       "      <td>0</td>\n",
       "    </tr>\n",
       "    <tr>\n",
       "      <th>243546</th>\n",
       "      <td>5e090041-6cfe-4849-ad71-7490df144734</td>\n",
       "      <td>0</td>\n",
       "    </tr>\n",
       "    <tr>\n",
       "      <th>243695</th>\n",
       "      <td>7e23a68c-9782-4104-8712-74add9caa0b4</td>\n",
       "      <td>6</td>\n",
       "    </tr>\n",
       "  </tbody>\n",
       "</table>\n",
       "<p>6495 rows × 2 columns</p>\n",
       "</div>"
      ],
      "text/plain": [
       "                                        user  day_diff\n",
       "1       1cffd052-4616-4d29-bfd5-950e23b763d4         0\n",
       "21      a88b3e4e-46f7-4ef9-8e3d-1a5e46560e10         0\n",
       "23      d0fb774c-1964-44b3-8987-c1c4002fdc7c         0\n",
       "62      9522fccc-f8f7-4b34-aff5-ef9ad19a0ab0         0\n",
       "73      7d8e12e8-fde0-4549-bc96-8dd5c7359b15         0\n",
       "...                                      ...       ...\n",
       "243257  8a8146b9-2fe5-49f2-b52f-d6068a9c2ff2         6\n",
       "243428  ba98c38e-9426-4f0e-a126-3db4afdc8ad4         0\n",
       "243506  3e92e5e1-8539-4517-b752-65c27dd52046         0\n",
       "243546  5e090041-6cfe-4849-ad71-7490df144734         0\n",
       "243695  7e23a68c-9782-4104-8712-74add9caa0b4         6\n",
       "\n",
       "[6495 rows x 2 columns]"
      ]
     },
     "execution_count": 296,
     "metadata": {},
     "output_type": "execute_result"
    }
   ],
   "source": [
    "# Filter the DataFrame for rows where the version is '1.6.0'\n",
    "game_end_1_6 = game_end[(game_end['version'] == '1.6.0') & (game_end['level'] == 1) & (game_end['win'] == 1)]\n",
    "##Select the necessary columns\n",
    "game_end_1_6_users = game_end_1_6.loc[:, ['user', 'day_diff']]\n",
    "game_end_1_6_users.drop_duplicates(inplace=True)\n",
    "game_end_1_6_users"
   ]
  },
  {
   "cell_type": "code",
   "execution_count": 297,
   "id": "7d0996ac8c5e5d2",
   "metadata": {
    "ExecuteTime": {
     "end_time": "2024-07-02T17:32:29.295512900Z",
     "start_time": "2024-07-02T17:32:29.031370500Z"
    }
   },
   "outputs": [],
   "source": [
    "# Convert float columns from float to int\n",
    "game_end_1_6_users['day_diff'] = game_end_1_6_users['day_diff'].astype(str)"
   ]
  },
  {
   "cell_type": "code",
   "execution_count": 298,
   "id": "adc987be0ae42034",
   "metadata": {
    "ExecuteTime": {
     "end_time": "2024-07-02T17:32:29.329805700Z",
     "start_time": "2024-07-02T17:32:29.039467300Z"
    }
   },
   "outputs": [
    {
     "data": {
      "text/html": [
       "<div>\n",
       "<style scoped>\n",
       "    .dataframe tbody tr th:only-of-type {\n",
       "        vertical-align: middle;\n",
       "    }\n",
       "\n",
       "    .dataframe tbody tr th {\n",
       "        vertical-align: top;\n",
       "    }\n",
       "\n",
       "    .dataframe thead th {\n",
       "        text-align: right;\n",
       "    }\n",
       "</style>\n",
       "<table border=\"1\" class=\"dataframe\">\n",
       "  <thead>\n",
       "    <tr style=\"text-align: right;\">\n",
       "      <th></th>\n",
       "      <th>user</th>\n",
       "      <th>day_diff</th>\n",
       "    </tr>\n",
       "  </thead>\n",
       "  <tbody>\n",
       "    <tr>\n",
       "      <th>0</th>\n",
       "      <td>1cffd052-4616-4d29-bfd5-950e23b763d4</td>\n",
       "      <td>0</td>\n",
       "    </tr>\n",
       "    <tr>\n",
       "      <th>1</th>\n",
       "      <td>a88b3e4e-46f7-4ef9-8e3d-1a5e46560e10</td>\n",
       "      <td>0</td>\n",
       "    </tr>\n",
       "    <tr>\n",
       "      <th>2</th>\n",
       "      <td>d0fb774c-1964-44b3-8987-c1c4002fdc7c</td>\n",
       "      <td>0</td>\n",
       "    </tr>\n",
       "    <tr>\n",
       "      <th>3</th>\n",
       "      <td>9522fccc-f8f7-4b34-aff5-ef9ad19a0ab0</td>\n",
       "      <td>0</td>\n",
       "    </tr>\n",
       "    <tr>\n",
       "      <th>4</th>\n",
       "      <td>7d8e12e8-fde0-4549-bc96-8dd5c7359b15</td>\n",
       "      <td>0</td>\n",
       "    </tr>\n",
       "    <tr>\n",
       "      <th>...</th>\n",
       "      <td>...</td>\n",
       "      <td>...</td>\n",
       "    </tr>\n",
       "    <tr>\n",
       "      <th>6851</th>\n",
       "      <td>b33f3ecf-9bfb-49fd-b44c-fd35c0b9e8cc</td>\n",
       "      <td>NaN</td>\n",
       "    </tr>\n",
       "    <tr>\n",
       "      <th>6852</th>\n",
       "      <td>886a4318-c999-4af3-b3a0-6d44df16c829</td>\n",
       "      <td>NaN</td>\n",
       "    </tr>\n",
       "    <tr>\n",
       "      <th>6853</th>\n",
       "      <td>c1018ab32e53fb33f36c404c5a651a85</td>\n",
       "      <td>NaN</td>\n",
       "    </tr>\n",
       "    <tr>\n",
       "      <th>6854</th>\n",
       "      <td>a3b261f2-34ee-46f0-9144-7e39481fa549</td>\n",
       "      <td>NaN</td>\n",
       "    </tr>\n",
       "    <tr>\n",
       "      <th>6855</th>\n",
       "      <td>08445202-31bb-405d-b9f7-511d83679ad5</td>\n",
       "      <td>NaN</td>\n",
       "    </tr>\n",
       "  </tbody>\n",
       "</table>\n",
       "<p>6856 rows × 2 columns</p>\n",
       "</div>"
      ],
      "text/plain": [
       "                                      user day_diff\n",
       "0     1cffd052-4616-4d29-bfd5-950e23b763d4        0\n",
       "1     a88b3e4e-46f7-4ef9-8e3d-1a5e46560e10        0\n",
       "2     d0fb774c-1964-44b3-8987-c1c4002fdc7c        0\n",
       "3     9522fccc-f8f7-4b34-aff5-ef9ad19a0ab0        0\n",
       "4     7d8e12e8-fde0-4549-bc96-8dd5c7359b15        0\n",
       "...                                    ...      ...\n",
       "6851  b33f3ecf-9bfb-49fd-b44c-fd35c0b9e8cc      NaN\n",
       "6852  886a4318-c999-4af3-b3a0-6d44df16c829      NaN\n",
       "6853      c1018ab32e53fb33f36c404c5a651a85      NaN\n",
       "6854  a3b261f2-34ee-46f0-9144-7e39481fa549      NaN\n",
       "6855  08445202-31bb-405d-b9f7-511d83679ad5      NaN\n",
       "\n",
       "[6856 rows x 2 columns]"
      ]
     },
     "execution_count": 298,
     "metadata": {},
     "output_type": "execute_result"
    }
   ],
   "source": [
    "tut_joined_end_1_6 = tutorial_1_6_users.merge(game_end_1_6_users, on='user', how='left')\n",
    "tut_joined_end_1_6"
   ]
  },
  {
   "cell_type": "code",
   "execution_count": 299,
   "id": "bdd45cebc99c1b82",
   "metadata": {
    "ExecuteTime": {
     "end_time": "2024-07-02T17:32:29.369408200Z",
     "start_time": "2024-07-02T17:32:29.057618600Z"
    }
   },
   "outputs": [
    {
     "data": {
      "text/plain": [
       "user        object\n",
       "day_diff    object\n",
       "dtype: object"
      ]
     },
     "execution_count": 299,
     "metadata": {},
     "output_type": "execute_result"
    }
   ],
   "source": [
    "tut_joined_end_1_6.dtypes"
   ]
  },
  {
   "cell_type": "code",
   "execution_count": 300,
   "id": "68d3ea4b23af3927",
   "metadata": {
    "ExecuteTime": {
     "end_time": "2024-07-02T17:32:29.370841Z",
     "start_time": "2024-07-02T17:32:29.065612300Z"
    }
   },
   "outputs": [
    {
     "data": {
      "text/plain": [
       "user          0\n",
       "day_diff    361\n",
       "dtype: int64"
      ]
     },
     "execution_count": 300,
     "metadata": {},
     "output_type": "execute_result"
    }
   ],
   "source": [
    "tut_joined_end_1_6.isnull().sum()"
   ]
  },
  {
   "cell_type": "code",
   "execution_count": 301,
   "id": "9395d9ed867e1e82",
   "metadata": {
    "ExecuteTime": {
     "end_time": "2024-07-02T17:32:29.402156400Z",
     "start_time": "2024-07-02T17:32:29.075964100Z"
    }
   },
   "outputs": [],
   "source": [
    "# For all null data with object as datatype in day_diff column, I fill in with string \"-1\". All user has value \"-1\" are user drop game in tutorial process\n",
    "tut_joined_end_1_6.day_diff.fillna('-1', inplace=True)"
   ]
  },
  {
   "cell_type": "code",
   "execution_count": 302,
   "id": "fdbe2b749d101308",
   "metadata": {
    "ExecuteTime": {
     "end_time": "2024-07-02T17:32:29.444264700Z",
     "start_time": "2024-07-02T17:32:29.082446300Z"
    }
   },
   "outputs": [
    {
     "data": {
      "text/plain": [
       "user        0\n",
       "day_diff    0\n",
       "dtype: int64"
      ]
     },
     "execution_count": 302,
     "metadata": {},
     "output_type": "execute_result"
    }
   ],
   "source": [
    "tut_joined_end_1_6.isnull().sum()"
   ]
  },
  {
   "cell_type": "code",
   "execution_count": 303,
   "id": "e500bc94c8d753b2",
   "metadata": {
    "ExecuteTime": {
     "end_time": "2024-07-02T17:32:29.450620300Z",
     "start_time": "2024-07-02T17:32:29.092273700Z"
    }
   },
   "outputs": [],
   "source": [
    "# Convert float columns from float to int\n",
    "tut_joined_end_1_6['day_diff'] = tut_joined_end_1_6['day_diff'].astype(int)"
   ]
  },
  {
   "cell_type": "code",
   "execution_count": 311,
   "id": "d933a4576b298bed",
   "metadata": {
    "ExecuteTime": {
     "end_time": "2024-07-02T17:35:58.910562Z",
     "start_time": "2024-07-02T17:35:58.873396300Z"
    }
   },
   "outputs": [],
   "source": [
    "# Group by 'day_diff' and count the number of users\n",
    "day_diff_counts_1_6 = tut_joined_end_1_6['day_diff'].value_counts(normalize=True).sort_index() * 100\n"
   ]
  },
  {
   "cell_type": "code",
   "execution_count": 312,
   "id": "333665da74c2ce87",
   "metadata": {
    "ExecuteTime": {
     "end_time": "2024-07-02T17:35:59.688719200Z",
     "start_time": "2024-07-02T17:35:59.490022800Z"
    }
   },
   "outputs": [
    {
     "data": {
      "image/png": "[encoded data removed]",
      "text/plain": [
       "<Figure size 1000x600 with 1 Axes>"
      ]
     },
     "metadata": {},
     "output_type": "display_data"
    }
   ],
   "source": [
    "# Plot the distribution\n",
    "plt.figure(figsize=(10, 6))\n",
    "day_diff_counts_1_6.plot(kind='bar')\n",
    "plt.xlabel('Day Difference')\n",
    "plt.ylabel('Count of Users')\n",
    "plt.title('Distribution of Users completed level 1 by Day Difference in 1.6.0 version')\n",
    "plt.xticks(rotation=0)\n",
    "plt.grid(axis='y')\n",
    "plt.show()"
   ]
  },
  {
   "cell_type": "code",
   "execution_count": 316,
   "id": "97b209faa054f50d",
   "metadata": {
    "ExecuteTime": {
     "end_time": "2024-07-02T18:06:57.071364Z",
     "start_time": "2024-07-02T18:06:56.787939100Z"
    }
   },
   "outputs": [
    {
     "data": {
      "image/png": "[encoded data removed]",
      "text/plain": [
       "<Figure size 2000x600 with 1 Axes>"
      ]
     },
     "metadata": {},
     "output_type": "display_data"
    }
   ],
   "source": [
    "# Plot the distributions on the same chart\n",
    "plt.figure(figsize=(20, 6))\n",
    "bar_width = 0.4\n",
    "\n",
    "# Plot for version 1.5.2\n",
    "bars_1_5 = plt.bar(day_diff_counts_1_5.index - bar_width/2, day_diff_counts_1_5.values, width=bar_width, label='Version 1.5.2')\n",
    "# Plot for version 1.6.0\n",
    "bars_1_6 = plt.bar(day_diff_counts_1_6.index + bar_width/2, day_diff_counts_1_6.values, width=bar_width, label='Version 1.6.0')\n",
    "\n",
    "# Display values on bars\n",
    "for bar in bars_1_5:\n",
    "    plt.text(bar.get_x() + bar.get_width()/2 - 0.05, bar.get_height() + 0.5, f'{bar.get_height():.1f}%', ha='center', va='bottom')\n",
    "for bar in bars_1_6:\n",
    "    plt.text(bar.get_x() + bar.get_width()/2 - 0.05, bar.get_height() + 0.5, f'{bar.get_height():.1f}%', ha='center', va='bottom')\n",
    "\n",
    "plt.xlabel('Day Difference')\n",
    "plt.ylabel('Percentage of Users')\n",
    "plt.title('Comparison of User Percentages by Day Difference for Versions 1.5.2 and 1.6.0')\n",
    "plt.legend()\n",
    "plt.grid(axis='y')\n",
    "plt.show()"
   ]
  },
  {
   "cell_type": "markdown",
   "id": "ffd3726e438d3bac",
   "metadata": {},
   "source": [
    "***By this chart, we can see:***\n",
    "*- Percentage of players who cannot complete Tutorial in 1.6.0 version is **higher** than version 1.5.2*\n",
    "*- Percentage of players who complete level 1 in the first day in 1.6.0 version is **lower** than version 1.5.2*"
   ]
  },
  {
   "cell_type": "markdown",
   "id": "7996582106dcfc7f",
   "metadata": {},
   "source": [
    "***2.2  Compare Tutorial completion rates between the two versions***\n",
    "I apply Chi_Square Test to compare completion rates between two versions ('1.5.2' and '1.6.0')"
   ]
  },
  {
   "cell_type": "code",
   "execution_count": 321,
   "id": "b41d2422b7210fd9",
   "metadata": {
    "ExecuteTime": {
     "end_time": "2024-07-02T18:37:09.741358800Z",
     "start_time": "2024-07-02T18:37:09.672867100Z"
    }
   },
   "outputs": [],
   "source": [
    "# Filter tutorial data with \"0\" value for non-completions and \"-2\" value for completions\n",
    "tutorial_1_5_df = tutorial_1_5[tutorial_1_5['quantity'].isin([0, -2])]\n",
    "tutorial_1_6_df = tutorial_1_6[tutorial_1_6['quantity'].isin([0, -2])]"
   ]
  },
  {
   "cell_type": "code",
   "execution_count": 322,
   "id": "f9467ce8d70cda3b",
   "metadata": {
    "ExecuteTime": {
     "end_time": "2024-07-02T18:38:08.420518Z",
     "start_time": "2024-07-02T18:38:08.360808300Z"
    }
   },
   "outputs": [],
   "source": [
    "# Calculate counts of completions (wins) and non-completions (losses)\n",
    "completion_1_5 = tutorial_1_5_df['quantity'].value_counts()\n",
    "completion_1_6 = tutorial_1_6_df['quantity'].value_counts()"
   ]
  },
  {
   "cell_type": "code",
   "execution_count": 325,
   "id": "91d0324e0f823e7b",
   "metadata": {
    "ExecuteTime": {
     "end_time": "2024-07-02T18:42:09.415482800Z",
     "start_time": "2024-07-02T18:42:09.352146300Z"
    }
   },
   "outputs": [
    {
     "name": "stdout",
     "output_type": "stream",
     "text": [
      "Contingency Table:\n",
      "              1.5.2  1.6.0\n",
      "Complete       6497   6712\n",
      "Not Complete    359    372\n"
     ]
    }
   ],
   "source": [
    "# Create a contingency table\n",
    "contingency_table = pd.DataFrame({\n",
    "    '1.5.2': [completion_1_5.get(-2, 0), completion_1_5.get(0, 0)],\n",
    "    '1.6.0': [completion_1_6.get(-2, 0), completion_1_6.get(0, 0)]\n",
    "}, index=['Complete', 'Not Complete'])\n",
    "\n",
    "print(\"Contingency Table:\")\n",
    "print(contingency_table)"
   ]
  },
  {
   "cell_type": "code",
   "execution_count": 326,
   "id": "4640e0fe7c4ea736",
   "metadata": {
    "ExecuteTime": {
     "end_time": "2024-07-02T18:42:15.009714400Z",
     "start_time": "2024-07-02T18:42:14.967505100Z"
    }
   },
   "outputs": [
    {
     "name": "stdout",
     "output_type": "stream",
     "text": [
      "\n",
      "Chi-Square Test Result:\n",
      "Chi2: 2.783357221770675e-06\n",
      "P-value: 0.9986688581604647\n",
      "Degrees of Freedom: 1\n",
      "Expected Frequencies:\n",
      "[[6496.47804878 6712.52195122]\n",
      " [ 359.52195122  371.47804878]]\n"
     ]
    }
   ],
   "source": [
    "# Perform the Chi-Square Test\n",
    "chi2, p, dof, expected = chi2_contingency(contingency_table)\n",
    "print(f\"\\nChi-Square Test Result:\\nChi2: {chi2}\\nP-value: {p}\\nDegrees of Freedom: {dof}\\nExpected Frequencies:\\n{expected}\")"
   ]
  },
  {
   "cell_type": "markdown",
   "id": "e3dcf3c3b8d2b56d",
   "metadata": {},
   "source": [
    "\n",
    "*In this test:*\n",
    "\n",
    "*The Chi-square statistic (Chi2) is very small, specifically **2.783357221770675e-06**. This measures the degree of difference between observed frequencies and expected frequencies if the null hypothesis is false.*\n",
    "\n",
    "*The P-value is **0.9986688581604647**, which is the probability of obtaining results as extreme as the observed data, assuming the null hypothesis is true. A high P-value suggests that there is insufficient evidence to reject the null hypothesis.*\n",
    "\n",
    "*Degrees of freedom is **1**, representing the number of independent variables used in the test.*\n",
    "\n",
    "*The expected frequencies table shows the expected values if the null hypothesis were true, compared to the observed values.*\n",
    "\n",
    "*Overall, with a high P-value and a very low Chi-square value, we **do not have enough evidence** to conclude that there is a significant difference between version 1.6.0 and version 1.5.2 of the test. Therefore, based on this test result, there is no basis to replace version 1.5.2 with version 1.6.0.*"
   ]
  },
  {
   "cell_type": "markdown",
   "id": "1df0da34f5bf6820",
   "metadata": {},
   "source": [
    "***2.3  Check if Tutorial is difficult and take too much time to complete***\n",
    "I apply T-Test to compare completion time between two versions ('1.5.2' and '1.6.0')"
   ]
  },
  {
   "cell_type": "code",
   "execution_count": 329,
   "id": "b8eb934987bca232",
   "metadata": {
    "ExecuteTime": {
     "end_time": "2024-07-02T19:45:03.422541400Z",
     "start_time": "2024-07-02T19:45:03.378846500Z"
    }
   },
   "outputs": [],
   "source": [
    "# Take the completion data in both versions\n",
    "tutorial_comp_1_5 = tutorial_1_5[tutorial_1_5['quantity']==2]\n",
    "tutorial_comp_1_6 = tutorial_1_6[tutorial_1_6['quantity']==2]"
   ]
  },
  {
   "cell_type": "code",
   "execution_count": 330,
   "id": "4ec32ad707da7198",
   "metadata": {
    "ExecuteTime": {
     "end_time": "2024-07-02T19:49:08.128219700Z",
     "start_time": "2024-07-02T19:49:08.065809700Z"
    }
   },
   "outputs": [],
   "source": [
    "# Take the completion time data in both versions\n",
    "day_tut_complete_1_5 = tutorial_comp_1_5['day_diff']\n",
    "day_tut_complete_1_6 = tutorial_comp_1_6['day_diff']"
   ]
  },
  {
   "cell_type": "code",
   "execution_count": 331,
   "id": "dab1175ecb4a417a",
   "metadata": {
    "ExecuteTime": {
     "end_time": "2024-07-02T19:49:39.372501800Z",
     "start_time": "2024-07-02T19:49:39.259456900Z"
    }
   },
   "outputs": [
    {
     "name": "stdout",
     "output_type": "stream",
     "text": [
      "T-Statistic: -0.35056512593317907\n",
      "P-Value: 0.725920141441057\n",
      "Fail to reject null hypothesis: No significant difference in completion time between versions 1.5.2 and 1.6.0.\n"
     ]
    }
   ],
   "source": [
    "# Perform T-test\n",
    "t_stat, p_value = ttest_ind(day_tut_complete_1_5, day_tut_complete_1_6)\n",
    "\n",
    "print(f\"T-Statistic: {t_stat}\")\n",
    "print(f\"P-Value: {p_value}\")\n",
    "\n",
    "if p_value < 0.05:\n",
    "    print(\"Reject null hypothesis: There is a significant difference in completion time between versions 1.5.2 and 1.6.0.\")\n",
    "else:\n",
    "    print(\"Fail to reject null hypothesis: No significant difference in completion time between versions 1.5.2 and 1.6.0.\")"
   ]
  },
  {
   "cell_type": "markdown",
   "id": "2c6de5f63751261b",
   "metadata": {},
   "source": [
    "\n",
    "*The interpretation of the result is as follows:*\n",
    "\n",
    "*T-Statistic: The value is **-0.35056512593317907**. This measures the size of the difference relative to the variation in the data. A negative value indicates that version 1.6.0 tends to have slightly lower completion times compared to version 1.5.2, but this difference is small.*\n",
    "\n",
    "*P-Value: The P-value is **0.725920141441057**. This is the probability of observing the data if there were no true difference between the versions. A high P-value (greater than 0.05 typically) suggests that there is insufficient evidence to reject the null hypothesis.*\n",
    "\n",
    "*Based on the P-value being higher than the significance level (commonly 0.05), we fail to reject the null hypothesis. Therefore, there is **no significant difference** in completion time between versions 1.5.2 and 1.6.0. This means that any observed differences in completion times are likely due to random chance rather than a meaningful effect of the version change.*\n",
    "\n",
    "In practical terms, this result indicates that, statistically speaking, users' completion times **do not significantly differ** between version 1.5.2 and version 1.6.0."
   ]
  },
  {
   "cell_type": "markdown",
   "id": "72fdecfd9300d487",
   "metadata": {},
   "source": [
    "**Conclusion**:\n",
    "*Based on the 3 criteria I gave at the beginning, we should **not apply** version 1.6.0 to 100% of players. Because in reality, there is almost **no difference** in improvement between the 2 versions 1.5.2 and 1.6.0."
   ]
  },
  {
   "cell_type": "markdown",
   "id": "a14165510c8796c2",
   "metadata": {},
   "source": [
    "**3.  Based on the data and your experience with the game, do you have any ideas to improve our User Experience??**\n"
   ]
  },
  {
   "cell_type": "markdown",
   "id": "441fc9feb6d03dc8",
   "metadata": {},
   "source": [
    "***By the data and my experience with the game, I have some suggestion:***\n",
    "\n",
    "*1. As my above analysis, adding more steps to the tutorial increases the rate of users abandoning the game before reaching level 1. Therefore, I think the tutorial should be reduced, especially for games that are easy to understand and play like Pixel Art.*\n",
    "\n",
    "*2. About the number, a thick and soft font would fit better with the current font.*\n",
    "\n",
    "*3. When a number on the sequence is completed correctly, there should be a little special effect before it fades out to mark the completion of the number. Similarly, when a number is made wrong, the rows and columns containing that number will vibrate to make the player pay more attention.*\n",
    "\n",
    "*4. When user completed a number in column or row, we can give congratulations, encouragement appear like \"Well done!\" , \"Cool!\",... to stimulate the player's interest.*\n",
    "\n",
    "*5. When user completed a level, we need to stand out even more with images and animations and a catchy \"CONGRATULATION!\" greeting. Consider the following classification of congratulatory messages for completing a level:*\n",
    "*- Completing without losing any lives would be \"PERFECT!\"*\n",
    "*- Completing but not having enough 3 lives or having to use tips would be \"GOOD JOB!\"*\n",
    "\n",
    "*6. After a period of time (about 10 seconds), if the player has no interaction in the game, the hint icon should have a highlighting effect to remind the player that it can be used if needed.*"
   ]
  },
  {
   "cell_type": "markdown",
   "source": [
    "**REFERENCE**"
   ],
   "metadata": {
    "collapsed": false
   },
   "id": "f3c9b90bb10e2fba"
  },
  {
   "cell_type": "markdown",
   "id": "99e4ec904817778a",
   "metadata": {},
   "source": [
    "1. https://pandas.pydata.org/pandas-docs/version/0.17.0/generated/pandas.DataFrame.nlargest.html\n",
    "2. https://pandas.pydata.org/pandas-docs/stable/generated/pandas.DataFrame.apply.html\n",
    "3. 4.https://pandas.pydata.org/pandas-docs/stable/visualization.html"
   ]
  },
  {
   "attachments": {
    "Screenshot_2.png": {
     "image/png": "[encoded data removed]"
    }
   },
   "cell_type": "markdown",
   "id": "68d0a322",
   "metadata": {},
   "source": []
  },
  {
   "cell_type": "markdown",
   "source": [],
   "metadata": {
    "collapsed": false
   },
   "id": "6fb94a1b32383e7f"
  },
  {
   "cell_type": "markdown",
   "source": [],
   "metadata": {
    "collapsed": false
   },
   "id": "37049bc11fb818b1"
  },
  {
   "cell_type": "markdown",
   "source": [],
   "metadata": {
    "collapsed": false
   },
   "id": "858677e25c58125d"
  },
  {
   "cell_type": "markdown",
   "source": [],
   "metadata": {
    "collapsed": false
   },
   "id": "942216424f0c8d61"
  },
  {
   "cell_type": "code",
   "execution_count": null,
   "outputs": [],
   "source": [],
   "metadata": {
    "collapsed": false
   },
   "id": "5b7b2d759ab95a98"
  }
 ],
 "metadata": {
  "kernelspec": {
   "display_name": "Python 3 (ipykernel)",
   "language": "python",
   "name": "python3"
  },
  "language_info": {
   "codemirror_mode": {
    "name": "ipython",
    "version": 3
   },
   "file_extension": ".py",
   "mimetype": "text/x-python",
   "name": "python",
   "nbconvert_exporter": "python",
   "pygments_lexer": "ipython3",
   "version": "3.11.5"
  }
 },
 "nbformat": 4,
 "nbformat_minor": 5
}
