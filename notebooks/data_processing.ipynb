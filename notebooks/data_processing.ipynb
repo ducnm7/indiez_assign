{
 "cells": [
  {
   "cell_type": "markdown",
   "id": "f95e8ef8",
   "metadata": {},
   "source": [
    "**SPLIT AND EXPORT FILE BY EVENT**\n",
    "\n"
   ]
  },
  {
   "cell_type": "code",
   "execution_count": 55,
   "id": "98ed73fc",
   "metadata": {
    "ExecuteTime": {
     "end_time": "2024-07-01T21:07:01.253627300Z",
     "start_time": "2024-07-01T21:07:01.105774Z"
    }
   },
   "outputs": [],
   "source": [
    "import pandas as pd\n",
    "import glob"
   ]
  },
  {
   "cell_type": "code",
   "execution_count": 56,
   "id": "d9aa39cc9ac0fbc8",
   "metadata": {
    "ExecuteTime": {
     "end_time": "2024-07-01T21:07:03.679518300Z",
     "start_time": "2024-07-01T21:07:01.135815Z"
    }
   },
   "outputs": [
    {
     "name": "stdout",
     "output_type": "stream",
     "text": [
      "   Unnamed: 0   date_time  event_name  level  \\\n",
      "0          40  2023-10-28  game_start      1   \n",
      "1          41  2023-10-28  game_start      1   \n",
      "2          42  2023-10-28  game_start      2   \n",
      "3          43  2023-10-28  game_start      3   \n",
      "4          44  2023-10-28  game_start      4   \n",
      "\n",
      "                                   user  day_diff        day0 mode_game  win  \\\n",
      "0  1cffd052-4616-4d29-bfd5-950e23b763d4       0.0  2023-10-28    normal  NaN   \n",
      "1  1cffd052-4616-4d29-bfd5-950e23b763d4       0.0  2023-10-28    normal  NaN   \n",
      "2  1cffd052-4616-4d29-bfd5-950e23b763d4       0.0  2023-10-28    normal  NaN   \n",
      "3  1cffd052-4616-4d29-bfd5-950e23b763d4       0.0  2023-10-28    normal  NaN   \n",
      "4  1cffd052-4616-4d29-bfd5-950e23b763d4       0.0  2023-10-28    normal  NaN   \n",
      "\n",
      "  reason_to_die  quantity version  \n",
      "0           NaN         0   1.6.0  \n",
      "1           NaN         0   1.6.0  \n",
      "2           NaN         0   1.6.0  \n",
      "3           NaN         0   1.6.0  \n",
      "4           NaN         0   1.6.0  \n"
     ]
    }
   ],
   "source": [
    "# Specify the file path pattern\n",
    "file_pattern = 'D:/indiez_assign/data/raw/data_interview-*.csv'\n",
    "\n",
    "# Use glob to find all files matching the pattern\n",
    "file_list = glob.glob(file_pattern)\n",
    "\n",
    "# Read and concatenate all the files\n",
    "df = pd.concat([pd.read_csv(file) for file in file_list])\n",
    "\n",
    "# Display the first few rows of the concatenated DataFrame\n",
    "print(df.head())"
   ]
  },
  {
   "cell_type": "markdown",
   "source": [
    "After evaluating the dataset, I think the first unnamed column could be *\"event_id\"* because the user can repeat the task in the game in a day. So, I will name the unnamed column *\"event_id\"*"
   ],
   "metadata": {
    "collapsed": false
   },
   "id": "89ca69d5a78983e0"
  },
  {
   "cell_type": "code",
   "execution_count": 57,
   "outputs": [],
   "source": [
    "# Rename the column 'Unnamed: 0' to 'event_id\n",
    "df = df.rename(columns={'Unnamed: 0': 'event_id'})"
   ],
   "metadata": {
    "collapsed": false,
    "ExecuteTime": {
     "end_time": "2024-07-01T21:07:03.851208400Z",
     "start_time": "2024-07-01T21:07:03.674300300Z"
    }
   },
   "id": "eb18dd8e559ab003"
  },
  {
   "cell_type": "code",
   "execution_count": 58,
   "outputs": [],
   "source": [
    "# Export the game_end DataFrame to a CSV file\n",
    "game_end = df[df['event_name'] == 'game_end']\n",
    "output_path = 'D:/indiez_assign/data/processed/game_end.csv'\n",
    "game_end.to_csv(output_path, index=False)"
   ],
   "metadata": {
    "collapsed": false,
    "ExecuteTime": {
     "end_time": "2024-07-01T21:07:05.622008300Z",
     "start_time": "2024-07-01T21:07:03.856142800Z"
    }
   },
   "id": "d082ac0494ebcd6e"
  },
  {
   "cell_type": "markdown",
   "id": "cece6668",
   "metadata": {},
   "source": [
    "Event **\"game_start\"** marks when the user starts a certain level. *\"win\"* and *\"reason_to_die\"* has is blank and not necessary, so I remove these fields."
   ]
  },
  {
   "cell_type": "code",
   "execution_count": 59,
   "id": "1d720736",
   "metadata": {
    "ExecuteTime": {
     "end_time": "2024-07-01T21:07:06.857783400Z",
     "start_time": "2024-07-01T21:07:05.681164400Z"
    }
   },
   "outputs": [],
   "source": [
    "# Export the game_start DataFrame to a CSV file\n",
    "game_start = df[df['event_name'] == 'game_start'].drop(columns=['win', 'reason_to_die'])\n",
    "output_path = 'D:/indiez_assign/data/processed/game_start.csv'\n",
    "game_start.to_csv(output_path, index=False)"
   ]
  },
  {
   "cell_type": "markdown",
   "id": "5473702b",
   "metadata": {},
   "source": [
    "Event **\"tutorial\"** guides the user on how to play. *\"win\"* and *\"reason_to_die\"* has is blank and not necessary, so I remove these fields."
   ]
  },
  {
   "cell_type": "code",
   "execution_count": 60,
   "id": "83d8859a",
   "metadata": {
    "ExecuteTime": {
     "end_time": "2024-07-01T21:07:07.493986Z",
     "start_time": "2024-07-01T21:07:06.866593900Z"
    }
   },
   "outputs": [],
   "source": [
    "# Export the tutorial DataFrame to a CSV file\n",
    "tutorial = df[df['event_name'] == 'tutorial'].drop(columns=['win', 'reason_to_die'])\n",
    "output_path = 'D:/indiez_assign/data/processed/tutorial.csv'\n",
    "tutorial.to_csv(output_path, index=False)"
   ]
  },
  {
   "cell_type": "markdown",
   "id": "f06bc671",
   "metadata": {},
   "source": [
    "Event **\"user_engagement\"** guides the user on how to play. *\"win\"* and *\"reason_to_die\"* has is blank and not necessary, so I remove these fields."
   ]
  },
  {
   "cell_type": "code",
   "execution_count": 61,
   "id": "4ceadc8c",
   "metadata": {
    "ExecuteTime": {
     "end_time": "2024-07-01T21:07:08.592352300Z",
     "start_time": "2024-07-01T21:07:07.504571600Z"
    }
   },
   "outputs": [],
   "source": [
    "# Export the user_engagement DataFrame to a CSV file\n",
    "user_engagement = df[df['event_name'] == 'user_engagement'].drop(columns=['win', 'reason_to_die'])\n",
    "output_path = 'D:/indiez_assign/data/processed/user_engagement.csv'\n",
    "user_engagement.to_csv(output_path, index=False)"
   ]
  },
  {
   "cell_type": "code",
   "execution_count": 61,
   "id": "d74d6142",
   "metadata": {
    "ExecuteTime": {
     "end_time": "2024-07-01T21:07:08.600377800Z",
     "start_time": "2024-07-01T21:07:08.594480300Z"
    }
   },
   "outputs": [],
   "source": []
  }
 ],
 "metadata": {
  "kernelspec": {
   "display_name": "Python 3 (ipykernel)",
   "language": "python",
   "name": "python3"
  },
  "language_info": {
   "codemirror_mode": {
    "name": "ipython",
    "version": 3
   },
   "file_extension": ".py",
   "mimetype": "text/x-python",
   "name": "python",
   "nbconvert_exporter": "python",
   "pygments_lexer": "ipython3",
   "version": "3.11.5"
  }
 },
 "nbformat": 4,
 "nbformat_minor": 5
}
